{
 "cells": [
  {
   "cell_type": "code",
   "execution_count": 2,
   "metadata": {
    "collapsed": true
   },
   "outputs": [],
   "source": [
    "import pandas as pd"
   ]
  },
  {
   "cell_type": "code",
   "execution_count": 3,
   "metadata": {
    "collapsed": true
   },
   "outputs": [],
   "source": [
    "df_dates = pd.read_csv('./dates_daily_CDR.csv', header=None)\n",
    "df_target = pd.read_csv('./results_daily_CDR.csv', header=None)"
   ]
  },
  {
   "cell_type": "code",
   "execution_count": 4,
   "metadata": {},
   "outputs": [
    {
     "data": {
      "text/html": [
       "<div>\n",
       "<style>\n",
       "    .dataframe thead tr:only-child th {\n",
       "        text-align: right;\n",
       "    }\n",
       "\n",
       "    .dataframe thead th {\n",
       "        text-align: left;\n",
       "    }\n",
       "\n",
       "    .dataframe tbody tr th {\n",
       "        vertical-align: top;\n",
       "    }\n",
       "</style>\n",
       "<table border=\"1\" class=\"dataframe\">\n",
       "  <thead>\n",
       "    <tr style=\"text-align: right;\">\n",
       "      <th></th>\n",
       "      <th>0</th>\n",
       "    </tr>\n",
       "  </thead>\n",
       "  <tbody>\n",
       "    <tr>\n",
       "      <th>0</th>\n",
       "      <td>1509667200</td>\n",
       "    </tr>\n",
       "    <tr>\n",
       "      <th>1</th>\n",
       "      <td>1509580800</td>\n",
       "    </tr>\n",
       "    <tr>\n",
       "      <th>2</th>\n",
       "      <td>1509494400</td>\n",
       "    </tr>\n",
       "    <tr>\n",
       "      <th>3</th>\n",
       "      <td>1509408000</td>\n",
       "    </tr>\n",
       "    <tr>\n",
       "      <th>4</th>\n",
       "      <td>1509321600</td>\n",
       "    </tr>\n",
       "  </tbody>\n",
       "</table>\n",
       "</div>"
      ],
      "text/plain": [
       "            0\n",
       "0  1509667200\n",
       "1  1509580800\n",
       "2  1509494400\n",
       "3  1509408000\n",
       "4  1509321600"
      ]
     },
     "execution_count": 4,
     "metadata": {},
     "output_type": "execute_result"
    }
   ],
   "source": [
    "df_dates.head()"
   ]
  },
  {
   "cell_type": "code",
   "execution_count": 5,
   "metadata": {},
   "outputs": [
    {
     "data": {
      "text/html": [
       "<div>\n",
       "<style>\n",
       "    .dataframe thead tr:only-child th {\n",
       "        text-align: right;\n",
       "    }\n",
       "\n",
       "    .dataframe thead th {\n",
       "        text-align: left;\n",
       "    }\n",
       "\n",
       "    .dataframe tbody tr th {\n",
       "        vertical-align: top;\n",
       "    }\n",
       "</style>\n",
       "<table border=\"1\" class=\"dataframe\">\n",
       "  <thead>\n",
       "    <tr style=\"text-align: right;\">\n",
       "      <th></th>\n",
       "      <th>0</th>\n",
       "      <th>1</th>\n",
       "      <th>2</th>\n",
       "      <th>3</th>\n",
       "    </tr>\n",
       "  </thead>\n",
       "  <tbody>\n",
       "    <tr>\n",
       "      <th>0</th>\n",
       "      <td>5.70</td>\n",
       "      <td>5.94</td>\n",
       "      <td>5.63</td>\n",
       "      <td>5.75</td>\n",
       "    </tr>\n",
       "    <tr>\n",
       "      <th>1</th>\n",
       "      <td>5.61</td>\n",
       "      <td>5.81</td>\n",
       "      <td>5.55</td>\n",
       "      <td>5.78</td>\n",
       "    </tr>\n",
       "    <tr>\n",
       "      <th>2</th>\n",
       "      <td>5.46</td>\n",
       "      <td>5.63</td>\n",
       "      <td>5.44</td>\n",
       "      <td>5.62</td>\n",
       "    </tr>\n",
       "    <tr>\n",
       "      <th>3</th>\n",
       "      <td>5.45</td>\n",
       "      <td>5.48</td>\n",
       "      <td>5.41</td>\n",
       "      <td>5.44</td>\n",
       "    </tr>\n",
       "    <tr>\n",
       "      <th>4</th>\n",
       "      <td>5.50</td>\n",
       "      <td>5.50</td>\n",
       "      <td>5.42</td>\n",
       "      <td>5.45</td>\n",
       "    </tr>\n",
       "  </tbody>\n",
       "</table>\n",
       "</div>"
      ],
      "text/plain": [
       "      0     1     2     3\n",
       "0  5.70  5.94  5.63  5.75\n",
       "1  5.61  5.81  5.55  5.78\n",
       "2  5.46  5.63  5.44  5.62\n",
       "3  5.45  5.48  5.41  5.44\n",
       "4  5.50  5.50  5.42  5.45"
      ]
     },
     "execution_count": 5,
     "metadata": {},
     "output_type": "execute_result"
    }
   ],
   "source": [
    "df_target.head()"
   ]
  },
  {
   "cell_type": "code",
   "execution_count": 6,
   "metadata": {
    "collapsed": true
   },
   "outputs": [],
   "source": [
    "from sklearn.preprocessing import StandardScaler"
   ]
  },
  {
   "cell_type": "code",
   "execution_count": 7,
   "metadata": {
    "collapsed": true
   },
   "outputs": [],
   "source": [
    "normalizer = StandardScaler()"
   ]
  },
  {
   "cell_type": "code",
   "execution_count": 8,
   "metadata": {
    "collapsed": true
   },
   "outputs": [],
   "source": [
    "df = df_target\n",
    "df['dates'] = df_dates"
   ]
  },
  {
   "cell_type": "code",
   "execution_count": 9,
   "metadata": {
    "collapsed": true
   },
   "outputs": [],
   "source": [
    "df.rename(columns={0: 'open', 1:'high', 2:'low',3:'close'}, inplace=True)"
   ]
  },
  {
   "cell_type": "code",
   "execution_count": 10,
   "metadata": {},
   "outputs": [
    {
     "data": {
      "text/html": [
       "<div>\n",
       "<style>\n",
       "    .dataframe thead tr:only-child th {\n",
       "        text-align: right;\n",
       "    }\n",
       "\n",
       "    .dataframe thead th {\n",
       "        text-align: left;\n",
       "    }\n",
       "\n",
       "    .dataframe tbody tr th {\n",
       "        vertical-align: top;\n",
       "    }\n",
       "</style>\n",
       "<table border=\"1\" class=\"dataframe\">\n",
       "  <thead>\n",
       "    <tr style=\"text-align: right;\">\n",
       "      <th></th>\n",
       "      <th>open</th>\n",
       "      <th>high</th>\n",
       "      <th>low</th>\n",
       "      <th>close</th>\n",
       "      <th>dates</th>\n",
       "    </tr>\n",
       "  </thead>\n",
       "  <tbody>\n",
       "    <tr>\n",
       "      <th>0</th>\n",
       "      <td>5.70</td>\n",
       "      <td>5.94</td>\n",
       "      <td>5.63</td>\n",
       "      <td>5.75</td>\n",
       "      <td>1509667200</td>\n",
       "    </tr>\n",
       "    <tr>\n",
       "      <th>1</th>\n",
       "      <td>5.61</td>\n",
       "      <td>5.81</td>\n",
       "      <td>5.55</td>\n",
       "      <td>5.78</td>\n",
       "      <td>1509580800</td>\n",
       "    </tr>\n",
       "    <tr>\n",
       "      <th>2</th>\n",
       "      <td>5.46</td>\n",
       "      <td>5.63</td>\n",
       "      <td>5.44</td>\n",
       "      <td>5.62</td>\n",
       "      <td>1509494400</td>\n",
       "    </tr>\n",
       "    <tr>\n",
       "      <th>3</th>\n",
       "      <td>5.45</td>\n",
       "      <td>5.48</td>\n",
       "      <td>5.41</td>\n",
       "      <td>5.44</td>\n",
       "      <td>1509408000</td>\n",
       "    </tr>\n",
       "    <tr>\n",
       "      <th>4</th>\n",
       "      <td>5.50</td>\n",
       "      <td>5.50</td>\n",
       "      <td>5.42</td>\n",
       "      <td>5.45</td>\n",
       "      <td>1509321600</td>\n",
       "    </tr>\n",
       "  </tbody>\n",
       "</table>\n",
       "</div>"
      ],
      "text/plain": [
       "   open  high   low  close       dates\n",
       "0  5.70  5.94  5.63   5.75  1509667200\n",
       "1  5.61  5.81  5.55   5.78  1509580800\n",
       "2  5.46  5.63  5.44   5.62  1509494400\n",
       "3  5.45  5.48  5.41   5.44  1509408000\n",
       "4  5.50  5.50  5.42   5.45  1509321600"
      ]
     },
     "execution_count": 10,
     "metadata": {},
     "output_type": "execute_result"
    }
   ],
   "source": [
    "df.head()"
   ]
  },
  {
   "cell_type": "code",
   "execution_count": 11,
   "metadata": {},
   "outputs": [
    {
     "data": {
      "text/plain": [
       "(4490, 5)"
      ]
     },
     "execution_count": 11,
     "metadata": {},
     "output_type": "execute_result"
    }
   ],
   "source": [
    "df.shape"
   ]
  },
  {
   "cell_type": "code",
   "execution_count": 12,
   "metadata": {
    "collapsed": true
   },
   "outputs": [],
   "source": [
    "df_train, df_test = df[490:], df[:490] #  Training data is older data, test is the newer. Index 0 corresponds to most recent row"
   ]
  },
  {
   "cell_type": "code",
   "execution_count": 13,
   "metadata": {},
   "outputs": [
    {
     "data": {
      "text/html": [
       "<div>\n",
       "<style>\n",
       "    .dataframe thead tr:only-child th {\n",
       "        text-align: right;\n",
       "    }\n",
       "\n",
       "    .dataframe thead th {\n",
       "        text-align: left;\n",
       "    }\n",
       "\n",
       "    .dataframe tbody tr th {\n",
       "        vertical-align: top;\n",
       "    }\n",
       "</style>\n",
       "<table border=\"1\" class=\"dataframe\">\n",
       "  <thead>\n",
       "    <tr style=\"text-align: right;\">\n",
       "      <th></th>\n",
       "      <th>open</th>\n",
       "      <th>high</th>\n",
       "      <th>low</th>\n",
       "      <th>close</th>\n",
       "      <th>dates</th>\n",
       "    </tr>\n",
       "  </thead>\n",
       "  <tbody>\n",
       "    <tr>\n",
       "      <th>485</th>\n",
       "      <td>7.33</td>\n",
       "      <td>7.3501</td>\n",
       "      <td>7.145</td>\n",
       "      <td>7.15</td>\n",
       "      <td>1449014400</td>\n",
       "    </tr>\n",
       "    <tr>\n",
       "      <th>486</th>\n",
       "      <td>7.33</td>\n",
       "      <td>7.3950</td>\n",
       "      <td>7.300</td>\n",
       "      <td>7.36</td>\n",
       "      <td>1448928000</td>\n",
       "    </tr>\n",
       "    <tr>\n",
       "      <th>487</th>\n",
       "      <td>7.37</td>\n",
       "      <td>7.4000</td>\n",
       "      <td>7.260</td>\n",
       "      <td>7.32</td>\n",
       "      <td>1448841600</td>\n",
       "    </tr>\n",
       "    <tr>\n",
       "      <th>488</th>\n",
       "      <td>7.25</td>\n",
       "      <td>7.4000</td>\n",
       "      <td>7.240</td>\n",
       "      <td>7.36</td>\n",
       "      <td>1448582400</td>\n",
       "    </tr>\n",
       "    <tr>\n",
       "      <th>489</th>\n",
       "      <td>7.28</td>\n",
       "      <td>7.2800</td>\n",
       "      <td>7.210</td>\n",
       "      <td>7.26</td>\n",
       "      <td>1448409600</td>\n",
       "    </tr>\n",
       "  </tbody>\n",
       "</table>\n",
       "</div>"
      ],
      "text/plain": [
       "     open    high    low  close       dates\n",
       "485  7.33  7.3501  7.145   7.15  1449014400\n",
       "486  7.33  7.3950  7.300   7.36  1448928000\n",
       "487  7.37  7.4000  7.260   7.32  1448841600\n",
       "488  7.25  7.4000  7.240   7.36  1448582400\n",
       "489  7.28  7.2800  7.210   7.26  1448409600"
      ]
     },
     "execution_count": 13,
     "metadata": {},
     "output_type": "execute_result"
    }
   ],
   "source": [
    "df_test.tail()"
   ]
  },
  {
   "cell_type": "code",
   "execution_count": 14,
   "metadata": {},
   "outputs": [
    {
     "data": {
      "text/html": [
       "<div>\n",
       "<style>\n",
       "    .dataframe thead tr:only-child th {\n",
       "        text-align: right;\n",
       "    }\n",
       "\n",
       "    .dataframe thead th {\n",
       "        text-align: left;\n",
       "    }\n",
       "\n",
       "    .dataframe tbody tr th {\n",
       "        vertical-align: top;\n",
       "    }\n",
       "</style>\n",
       "<table border=\"1\" class=\"dataframe\">\n",
       "  <thead>\n",
       "    <tr style=\"text-align: right;\">\n",
       "      <th></th>\n",
       "      <th>open</th>\n",
       "      <th>high</th>\n",
       "      <th>low</th>\n",
       "      <th>close</th>\n",
       "      <th>dates</th>\n",
       "    </tr>\n",
       "  </thead>\n",
       "  <tbody>\n",
       "    <tr>\n",
       "      <th>490</th>\n",
       "      <td>7.22</td>\n",
       "      <td>7.260</td>\n",
       "      <td>7.13</td>\n",
       "      <td>7.26</td>\n",
       "      <td>1448323200</td>\n",
       "    </tr>\n",
       "    <tr>\n",
       "      <th>491</th>\n",
       "      <td>7.17</td>\n",
       "      <td>7.240</td>\n",
       "      <td>7.14</td>\n",
       "      <td>7.23</td>\n",
       "      <td>1448236800</td>\n",
       "    </tr>\n",
       "    <tr>\n",
       "      <th>492</th>\n",
       "      <td>7.06</td>\n",
       "      <td>7.180</td>\n",
       "      <td>7.05</td>\n",
       "      <td>7.16</td>\n",
       "      <td>1447977600</td>\n",
       "    </tr>\n",
       "    <tr>\n",
       "      <th>493</th>\n",
       "      <td>6.91</td>\n",
       "      <td>7.015</td>\n",
       "      <td>6.91</td>\n",
       "      <td>7.01</td>\n",
       "      <td>1447891200</td>\n",
       "    </tr>\n",
       "    <tr>\n",
       "      <th>494</th>\n",
       "      <td>6.79</td>\n",
       "      <td>6.920</td>\n",
       "      <td>6.76</td>\n",
       "      <td>6.91</td>\n",
       "      <td>1447804800</td>\n",
       "    </tr>\n",
       "  </tbody>\n",
       "</table>\n",
       "</div>"
      ],
      "text/plain": [
       "     open   high   low  close       dates\n",
       "490  7.22  7.260  7.13   7.26  1448323200\n",
       "491  7.17  7.240  7.14   7.23  1448236800\n",
       "492  7.06  7.180  7.05   7.16  1447977600\n",
       "493  6.91  7.015  6.91   7.01  1447891200\n",
       "494  6.79  6.920  6.76   6.91  1447804800"
      ]
     },
     "execution_count": 14,
     "metadata": {},
     "output_type": "execute_result"
    }
   ],
   "source": [
    "df_train.head()"
   ]
  },
  {
   "cell_type": "code",
   "execution_count": 15,
   "metadata": {},
   "outputs": [
    {
     "data": {
      "text/plain": [
       "((4000, 5), (490, 5))"
      ]
     },
     "execution_count": 15,
     "metadata": {},
     "output_type": "execute_result"
    }
   ],
   "source": [
    "df_train.shape, df_test.shape"
   ]
  },
  {
   "cell_type": "code",
   "execution_count": 16,
   "metadata": {
    "collapsed": true
   },
   "outputs": [],
   "source": [
    "X_tr, y_tr = df_train['dates'], df_train[['open', 'high', 'low', 'close']]"
   ]
  },
  {
   "cell_type": "code",
   "execution_count": 17,
   "metadata": {
    "collapsed": true
   },
   "outputs": [],
   "source": [
    "X_te, y_te = df_test['dates'], df_test[['open', 'high', 'low', 'close']]"
   ]
  },
  {
   "cell_type": "code",
   "execution_count": 18,
   "metadata": {
    "collapsed": true
   },
   "outputs": [],
   "source": [
    "X_tr_tmp = X_tr.values[:-1]"
   ]
  },
  {
   "cell_type": "code",
   "execution_count": 19,
   "metadata": {},
   "outputs": [
    {
     "data": {
      "text/plain": [
       "array([1448323200, 1448236800, 1447977600, ...,  947116800,  947030400,\n",
       "        946944000], dtype=int64)"
      ]
     },
     "execution_count": 19,
     "metadata": {},
     "output_type": "execute_result"
    }
   ],
   "source": [
    "X_tr_tmp"
   ]
  },
  {
   "cell_type": "code",
   "execution_count": 20,
   "metadata": {
    "collapsed": true
   },
   "outputs": [],
   "source": [
    "X_tr2_tmp = y_tr.values[1:, 0] #  The first row (index 0) does not have an y corresponding to open for the next day so we ignore it, also we only predict open price so 0th column"
   ]
  },
  {
   "cell_type": "code",
   "execution_count": 21,
   "metadata": {},
   "outputs": [
    {
     "data": {
      "text/plain": [
       "array([ 7.17,  7.06,  6.91, ...,  5.62,  5.75,  5.75])"
      ]
     },
     "execution_count": 21,
     "metadata": {},
     "output_type": "execute_result"
    }
   ],
   "source": [
    "X_tr2_tmp"
   ]
  },
  {
   "cell_type": "code",
   "execution_count": 22,
   "metadata": {
    "collapsed": true
   },
   "outputs": [],
   "source": [
    "X_te_tmp = X_te.values[:-1]\n",
    "X_te2_tmp = y_te.values[1:, 0]"
   ]
  },
  {
   "cell_type": "code",
   "execution_count": 23,
   "metadata": {
    "collapsed": true
   },
   "outputs": [],
   "source": [
    "import numpy as np"
   ]
  },
  {
   "cell_type": "code",
   "execution_count": 24,
   "metadata": {
    "collapsed": true
   },
   "outputs": [],
   "source": [
    "X_tmp = np.concatenate([X_tr_tmp.reshape(-1,1), X_tr2_tmp.reshape(-1,1)], axis=1)"
   ]
  },
  {
   "cell_type": "code",
   "execution_count": 25,
   "metadata": {
    "collapsed": true
   },
   "outputs": [],
   "source": [
    "y_tmp = y_tr.values[:-1, :]"
   ]
  },
  {
   "cell_type": "code",
   "execution_count": 26,
   "metadata": {},
   "outputs": [
    {
     "data": {
      "text/plain": [
       "(array([  1.44832320e+09,   7.17000000e+00]),\n",
       " array([ 7.22,  7.26,  7.13,  7.26]),\n",
       " array([ 7.17,  7.24,  7.14,  7.23]))"
      ]
     },
     "execution_count": 26,
     "metadata": {},
     "output_type": "execute_result"
    }
   ],
   "source": [
    "X_tmp[0], y_tmp[0], y_tmp[1]"
   ]
  },
  {
   "cell_type": "code",
   "execution_count": 27,
   "metadata": {
    "collapsed": true
   },
   "outputs": [],
   "source": [
    "X_tmp_te = np.concatenate([X_te_tmp.reshape(-1,1), X_te2_tmp.reshape(-1,1)], axis=1)"
   ]
  },
  {
   "cell_type": "code",
   "execution_count": 28,
   "metadata": {},
   "outputs": [
    {
     "name": "stderr",
     "output_type": "stream",
     "text": [
      "Using TensorFlow backend.\n"
     ]
    }
   ],
   "source": [
    "from keras.models import Sequential\n",
    "from keras.layers import Dense, BatchNormalization\n",
    "from keras.activations import relu, elu\n",
    "from keras.layers.advanced_activations import LeakyReLU, PReLU\n",
    "from keras.losses import mean_absolute_error"
   ]
  },
  {
   "cell_type": "code",
   "execution_count": 29,
   "metadata": {
    "collapsed": true
   },
   "outputs": [],
   "source": [
    "model = Sequential()\n",
    "model.add(BatchNormalization(input_shape=(2,)))\n",
    "model.add(Dense(1024, use_bias=False, activation='tanh'))\n",
    "model.add(Dense(1, use_bias=False))"
   ]
  },
  {
   "cell_type": "code",
   "execution_count": 30,
   "metadata": {},
   "outputs": [
    {
     "name": "stdout",
     "output_type": "stream",
     "text": [
      "_________________________________________________________________\n",
      "Layer (type)                 Output Shape              Param #   \n",
      "=================================================================\n",
      "batch_normalization_1 (Batch (None, 2)                 8         \n",
      "_________________________________________________________________\n",
      "dense_1 (Dense)              (None, 1024)              2048      \n",
      "_________________________________________________________________\n",
      "dense_2 (Dense)              (None, 1)                 1024      \n",
      "=================================================================\n",
      "Total params: 3,080\n",
      "Trainable params: 3,076\n",
      "Non-trainable params: 4\n",
      "_________________________________________________________________\n"
     ]
    }
   ],
   "source": [
    "model.summary()"
   ]
  },
  {
   "cell_type": "code",
   "execution_count": 33,
   "metadata": {
    "collapsed": true
   },
   "outputs": [],
   "source": [
    "model.compile('adam', 'mse', metrics=['mse'])"
   ]
  },
  {
   "cell_type": "code",
   "execution_count": 34,
   "metadata": {
    "scrolled": true
   },
   "outputs": [
    {
     "name": "stdout",
     "output_type": "stream",
     "text": [
      "Epoch 1/10000\n",
      "3999/3999 [==============================] - 1s 168us/step - loss: 0.8848 - mean_squared_error: 0.8848\n",
      "Epoch 2/10000\n",
      "3999/3999 [==============================] - 0s 110us/step - loss: 0.9551 - mean_squared_error: 0.9551\n",
      "Epoch 3/10000\n",
      "3999/3999 [==============================] - 0s 124us/step - loss: 0.7410 - mean_squared_error: 0.7410\n",
      "Epoch 4/10000\n",
      "3999/3999 [==============================] - 0s 103us/step - loss: 0.9168 - mean_squared_error: 0.9168\n",
      "Epoch 5/10000\n",
      "3999/3999 [==============================] - 0s 101us/step - loss: 1.0765 - mean_squared_error: 1.0765\n",
      "Epoch 6/10000\n",
      "3999/3999 [==============================] - 0s 99us/step - loss: 0.8181 - mean_squared_error: 0.8181\n",
      "Epoch 7/10000\n",
      "3999/3999 [==============================] - 0s 109us/step - loss: 0.8022 - mean_squared_error: 0.8022\n",
      "Epoch 8/10000\n",
      "3999/3999 [==============================] - 0s 113us/step - loss: 0.7630 - mean_squared_error: 0.7630\n",
      "Epoch 9/10000\n",
      "3999/3999 [==============================] - 0s 109us/step - loss: 0.8184 - mean_squared_error: 0.8184\n",
      "Epoch 10/10000\n",
      "3999/3999 [==============================] - 0s 102us/step - loss: 0.7648 - mean_squared_error: 0.7648\n",
      "Epoch 11/10000\n",
      "3999/3999 [==============================] - 0s 97us/step - loss: 0.7094 - mean_squared_error: 0.7094\n",
      "Epoch 12/10000\n",
      "3999/3999 [==============================] - 0s 99us/step - loss: 0.8982 - mean_squared_error: 0.8982\n",
      "Epoch 13/10000\n",
      "3999/3999 [==============================] - 0s 96us/step - loss: 0.7761 - mean_squared_error: 0.7761\n",
      "Epoch 14/10000\n",
      "3999/3999 [==============================] - 0s 99us/step - loss: 0.7895 - mean_squared_error: 0.7895\n",
      "Epoch 15/10000\n",
      "3999/3999 [==============================] - 0s 104us/step - loss: 0.7518 - mean_squared_error: 0.7518\n",
      "Epoch 16/10000\n",
      "3999/3999 [==============================] - 0s 94us/step - loss: 0.7178 - mean_squared_error: 0.7178\n",
      "Epoch 17/10000\n",
      "3999/3999 [==============================] - 0s 106us/step - loss: 0.9053 - mean_squared_error: 0.9053\n",
      "Epoch 18/10000\n",
      "3999/3999 [==============================] - 0s 101us/step - loss: 0.8139 - mean_squared_error: 0.8139\n",
      "Epoch 19/10000\n",
      "3999/3999 [==============================] - 0s 106us/step - loss: 0.7847 - mean_squared_error: 0.7847\n",
      "Epoch 20/10000\n",
      "  32/3999 [..............................] - ETA: 0s - loss: 0.0513 - mean_squared_error: 0.0513"
     ]
    },
    {
     "ename": "KeyboardInterrupt",
     "evalue": "",
     "output_type": "error",
     "traceback": [
      "\u001b[1;31m---------------------------------------------------------------------------\u001b[0m",
      "\u001b[1;31mKeyboardInterrupt\u001b[0m                         Traceback (most recent call last)",
      "\u001b[1;32m<ipython-input-34-99b50f179824>\u001b[0m in \u001b[0;36m<module>\u001b[1;34m()\u001b[0m\n\u001b[1;32m----> 1\u001b[1;33m \u001b[0mmodel\u001b[0m\u001b[1;33m.\u001b[0m\u001b[0mfit\u001b[0m\u001b[1;33m(\u001b[0m\u001b[0mX_tmp\u001b[0m\u001b[1;33m,\u001b[0m \u001b[0my_tmp\u001b[0m\u001b[1;33m[\u001b[0m\u001b[1;33m:\u001b[0m\u001b[1;33m,\u001b[0m \u001b[1;36m0\u001b[0m\u001b[1;33m]\u001b[0m\u001b[1;33m,\u001b[0m \u001b[0mepochs\u001b[0m\u001b[1;33m=\u001b[0m\u001b[1;36m10000\u001b[0m\u001b[1;33m,\u001b[0m \u001b[0mbatch_size\u001b[0m\u001b[1;33m=\u001b[0m\u001b[1;36m32\u001b[0m\u001b[1;33m)\u001b[0m\u001b[1;33m\u001b[0m\u001b[0m\n\u001b[0m",
      "\u001b[1;32mC:\\Install\\Anaconda3\\lib\\site-packages\\keras\\models.py\u001b[0m in \u001b[0;36mfit\u001b[1;34m(self, x, y, batch_size, epochs, verbose, callbacks, validation_split, validation_data, shuffle, class_weight, sample_weight, initial_epoch, **kwargs)\u001b[0m\n\u001b[0;32m    891\u001b[0m                               \u001b[0mclass_weight\u001b[0m\u001b[1;33m=\u001b[0m\u001b[0mclass_weight\u001b[0m\u001b[1;33m,\u001b[0m\u001b[1;33m\u001b[0m\u001b[0m\n\u001b[0;32m    892\u001b[0m                               \u001b[0msample_weight\u001b[0m\u001b[1;33m=\u001b[0m\u001b[0msample_weight\u001b[0m\u001b[1;33m,\u001b[0m\u001b[1;33m\u001b[0m\u001b[0m\n\u001b[1;32m--> 893\u001b[1;33m                               initial_epoch=initial_epoch)\n\u001b[0m\u001b[0;32m    894\u001b[0m \u001b[1;33m\u001b[0m\u001b[0m\n\u001b[0;32m    895\u001b[0m     def evaluate(self, x, y, batch_size=32, verbose=1,\n",
      "\u001b[1;32mC:\\Install\\Anaconda3\\lib\\site-packages\\keras\\engine\\training.py\u001b[0m in \u001b[0;36mfit\u001b[1;34m(self, x, y, batch_size, epochs, verbose, callbacks, validation_split, validation_data, shuffle, class_weight, sample_weight, initial_epoch, steps_per_epoch, validation_steps, **kwargs)\u001b[0m\n\u001b[0;32m   1629\u001b[0m                               \u001b[0minitial_epoch\u001b[0m\u001b[1;33m=\u001b[0m\u001b[0minitial_epoch\u001b[0m\u001b[1;33m,\u001b[0m\u001b[1;33m\u001b[0m\u001b[0m\n\u001b[0;32m   1630\u001b[0m                               \u001b[0msteps_per_epoch\u001b[0m\u001b[1;33m=\u001b[0m\u001b[0msteps_per_epoch\u001b[0m\u001b[1;33m,\u001b[0m\u001b[1;33m\u001b[0m\u001b[0m\n\u001b[1;32m-> 1631\u001b[1;33m                               validation_steps=validation_steps)\n\u001b[0m\u001b[0;32m   1632\u001b[0m \u001b[1;33m\u001b[0m\u001b[0m\n\u001b[0;32m   1633\u001b[0m     def evaluate(self, x=None, y=None,\n",
      "\u001b[1;32mC:\\Install\\Anaconda3\\lib\\site-packages\\keras\\engine\\training.py\u001b[0m in \u001b[0;36m_fit_loop\u001b[1;34m(self, f, ins, out_labels, batch_size, epochs, verbose, callbacks, val_f, val_ins, shuffle, callback_metrics, initial_epoch, steps_per_epoch, validation_steps)\u001b[0m\n\u001b[0;32m   1211\u001b[0m                     \u001b[0mbatch_logs\u001b[0m\u001b[1;33m[\u001b[0m\u001b[1;34m'size'\u001b[0m\u001b[1;33m]\u001b[0m \u001b[1;33m=\u001b[0m \u001b[0mlen\u001b[0m\u001b[1;33m(\u001b[0m\u001b[0mbatch_ids\u001b[0m\u001b[1;33m)\u001b[0m\u001b[1;33m\u001b[0m\u001b[0m\n\u001b[0;32m   1212\u001b[0m                     \u001b[0mcallbacks\u001b[0m\u001b[1;33m.\u001b[0m\u001b[0mon_batch_begin\u001b[0m\u001b[1;33m(\u001b[0m\u001b[0mbatch_index\u001b[0m\u001b[1;33m,\u001b[0m \u001b[0mbatch_logs\u001b[0m\u001b[1;33m)\u001b[0m\u001b[1;33m\u001b[0m\u001b[0m\n\u001b[1;32m-> 1213\u001b[1;33m                     \u001b[0mouts\u001b[0m \u001b[1;33m=\u001b[0m \u001b[0mf\u001b[0m\u001b[1;33m(\u001b[0m\u001b[0mins_batch\u001b[0m\u001b[1;33m)\u001b[0m\u001b[1;33m\u001b[0m\u001b[0m\n\u001b[0m\u001b[0;32m   1214\u001b[0m                     \u001b[1;32mif\u001b[0m \u001b[1;32mnot\u001b[0m \u001b[0misinstance\u001b[0m\u001b[1;33m(\u001b[0m\u001b[0mouts\u001b[0m\u001b[1;33m,\u001b[0m \u001b[0mlist\u001b[0m\u001b[1;33m)\u001b[0m\u001b[1;33m:\u001b[0m\u001b[1;33m\u001b[0m\u001b[0m\n\u001b[0;32m   1215\u001b[0m                         \u001b[0mouts\u001b[0m \u001b[1;33m=\u001b[0m \u001b[1;33m[\u001b[0m\u001b[0mouts\u001b[0m\u001b[1;33m]\u001b[0m\u001b[1;33m\u001b[0m\u001b[0m\n",
      "\u001b[1;32mC:\\Install\\Anaconda3\\lib\\site-packages\\keras\\backend\\tensorflow_backend.py\u001b[0m in \u001b[0;36m__call__\u001b[1;34m(self, inputs)\u001b[0m\n\u001b[0;32m   2330\u001b[0m         updated = session.run(self.outputs + [self.updates_op],\n\u001b[0;32m   2331\u001b[0m                               \u001b[0mfeed_dict\u001b[0m\u001b[1;33m=\u001b[0m\u001b[0mfeed_dict\u001b[0m\u001b[1;33m,\u001b[0m\u001b[1;33m\u001b[0m\u001b[0m\n\u001b[1;32m-> 2332\u001b[1;33m                               **self.session_kwargs)\n\u001b[0m\u001b[0;32m   2333\u001b[0m         \u001b[1;32mreturn\u001b[0m \u001b[0mupdated\u001b[0m\u001b[1;33m[\u001b[0m\u001b[1;33m:\u001b[0m\u001b[0mlen\u001b[0m\u001b[1;33m(\u001b[0m\u001b[0mself\u001b[0m\u001b[1;33m.\u001b[0m\u001b[0moutputs\u001b[0m\u001b[1;33m)\u001b[0m\u001b[1;33m]\u001b[0m\u001b[1;33m\u001b[0m\u001b[0m\n\u001b[0;32m   2334\u001b[0m \u001b[1;33m\u001b[0m\u001b[0m\n",
      "\u001b[1;32mC:\\Install\\Anaconda3\\lib\\site-packages\\tensorflow\\python\\client\\session.py\u001b[0m in \u001b[0;36mrun\u001b[1;34m(self, fetches, feed_dict, options, run_metadata)\u001b[0m\n\u001b[0;32m    887\u001b[0m     \u001b[1;32mtry\u001b[0m\u001b[1;33m:\u001b[0m\u001b[1;33m\u001b[0m\u001b[0m\n\u001b[0;32m    888\u001b[0m       result = self._run(None, fetches, feed_dict, options_ptr,\n\u001b[1;32m--> 889\u001b[1;33m                          run_metadata_ptr)\n\u001b[0m\u001b[0;32m    890\u001b[0m       \u001b[1;32mif\u001b[0m \u001b[0mrun_metadata\u001b[0m\u001b[1;33m:\u001b[0m\u001b[1;33m\u001b[0m\u001b[0m\n\u001b[0;32m    891\u001b[0m         \u001b[0mproto_data\u001b[0m \u001b[1;33m=\u001b[0m \u001b[0mtf_session\u001b[0m\u001b[1;33m.\u001b[0m\u001b[0mTF_GetBuffer\u001b[0m\u001b[1;33m(\u001b[0m\u001b[0mrun_metadata_ptr\u001b[0m\u001b[1;33m)\u001b[0m\u001b[1;33m\u001b[0m\u001b[0m\n",
      "\u001b[1;32mC:\\Install\\Anaconda3\\lib\\site-packages\\tensorflow\\python\\client\\session.py\u001b[0m in \u001b[0;36m_run\u001b[1;34m(self, handle, fetches, feed_dict, options, run_metadata)\u001b[0m\n\u001b[0;32m   1118\u001b[0m     \u001b[1;32mif\u001b[0m \u001b[0mfinal_fetches\u001b[0m \u001b[1;32mor\u001b[0m \u001b[0mfinal_targets\u001b[0m \u001b[1;32mor\u001b[0m \u001b[1;33m(\u001b[0m\u001b[0mhandle\u001b[0m \u001b[1;32mand\u001b[0m \u001b[0mfeed_dict_tensor\u001b[0m\u001b[1;33m)\u001b[0m\u001b[1;33m:\u001b[0m\u001b[1;33m\u001b[0m\u001b[0m\n\u001b[0;32m   1119\u001b[0m       results = self._do_run(handle, final_targets, final_fetches,\n\u001b[1;32m-> 1120\u001b[1;33m                              feed_dict_tensor, options, run_metadata)\n\u001b[0m\u001b[0;32m   1121\u001b[0m     \u001b[1;32melse\u001b[0m\u001b[1;33m:\u001b[0m\u001b[1;33m\u001b[0m\u001b[0m\n\u001b[0;32m   1122\u001b[0m       \u001b[0mresults\u001b[0m \u001b[1;33m=\u001b[0m \u001b[1;33m[\u001b[0m\u001b[1;33m]\u001b[0m\u001b[1;33m\u001b[0m\u001b[0m\n",
      "\u001b[1;32mC:\\Install\\Anaconda3\\lib\\site-packages\\tensorflow\\python\\client\\session.py\u001b[0m in \u001b[0;36m_do_run\u001b[1;34m(self, handle, target_list, fetch_list, feed_dict, options, run_metadata)\u001b[0m\n\u001b[0;32m   1315\u001b[0m     \u001b[1;32mif\u001b[0m \u001b[0mhandle\u001b[0m \u001b[1;32mis\u001b[0m \u001b[1;32mNone\u001b[0m\u001b[1;33m:\u001b[0m\u001b[1;33m\u001b[0m\u001b[0m\n\u001b[0;32m   1316\u001b[0m       return self._do_call(_run_fn, self._session, feeds, fetches, targets,\n\u001b[1;32m-> 1317\u001b[1;33m                            options, run_metadata)\n\u001b[0m\u001b[0;32m   1318\u001b[0m     \u001b[1;32melse\u001b[0m\u001b[1;33m:\u001b[0m\u001b[1;33m\u001b[0m\u001b[0m\n\u001b[0;32m   1319\u001b[0m       \u001b[1;32mreturn\u001b[0m \u001b[0mself\u001b[0m\u001b[1;33m.\u001b[0m\u001b[0m_do_call\u001b[0m\u001b[1;33m(\u001b[0m\u001b[0m_prun_fn\u001b[0m\u001b[1;33m,\u001b[0m \u001b[0mself\u001b[0m\u001b[1;33m.\u001b[0m\u001b[0m_session\u001b[0m\u001b[1;33m,\u001b[0m \u001b[0mhandle\u001b[0m\u001b[1;33m,\u001b[0m \u001b[0mfeeds\u001b[0m\u001b[1;33m,\u001b[0m \u001b[0mfetches\u001b[0m\u001b[1;33m)\u001b[0m\u001b[1;33m\u001b[0m\u001b[0m\n",
      "\u001b[1;32mC:\\Install\\Anaconda3\\lib\\site-packages\\tensorflow\\python\\client\\session.py\u001b[0m in \u001b[0;36m_do_call\u001b[1;34m(self, fn, *args)\u001b[0m\n\u001b[0;32m   1321\u001b[0m   \u001b[1;32mdef\u001b[0m \u001b[0m_do_call\u001b[0m\u001b[1;33m(\u001b[0m\u001b[0mself\u001b[0m\u001b[1;33m,\u001b[0m \u001b[0mfn\u001b[0m\u001b[1;33m,\u001b[0m \u001b[1;33m*\u001b[0m\u001b[0margs\u001b[0m\u001b[1;33m)\u001b[0m\u001b[1;33m:\u001b[0m\u001b[1;33m\u001b[0m\u001b[0m\n\u001b[0;32m   1322\u001b[0m     \u001b[1;32mtry\u001b[0m\u001b[1;33m:\u001b[0m\u001b[1;33m\u001b[0m\u001b[0m\n\u001b[1;32m-> 1323\u001b[1;33m       \u001b[1;32mreturn\u001b[0m \u001b[0mfn\u001b[0m\u001b[1;33m(\u001b[0m\u001b[1;33m*\u001b[0m\u001b[0margs\u001b[0m\u001b[1;33m)\u001b[0m\u001b[1;33m\u001b[0m\u001b[0m\n\u001b[0m\u001b[0;32m   1324\u001b[0m     \u001b[1;32mexcept\u001b[0m \u001b[0merrors\u001b[0m\u001b[1;33m.\u001b[0m\u001b[0mOpError\u001b[0m \u001b[1;32mas\u001b[0m \u001b[0me\u001b[0m\u001b[1;33m:\u001b[0m\u001b[1;33m\u001b[0m\u001b[0m\n\u001b[0;32m   1325\u001b[0m       \u001b[0mmessage\u001b[0m \u001b[1;33m=\u001b[0m \u001b[0mcompat\u001b[0m\u001b[1;33m.\u001b[0m\u001b[0mas_text\u001b[0m\u001b[1;33m(\u001b[0m\u001b[0me\u001b[0m\u001b[1;33m.\u001b[0m\u001b[0mmessage\u001b[0m\u001b[1;33m)\u001b[0m\u001b[1;33m\u001b[0m\u001b[0m\n",
      "\u001b[1;32mC:\\Install\\Anaconda3\\lib\\site-packages\\tensorflow\\python\\client\\session.py\u001b[0m in \u001b[0;36m_run_fn\u001b[1;34m(session, feed_dict, fetch_list, target_list, options, run_metadata)\u001b[0m\n\u001b[0;32m   1300\u001b[0m           return tf_session.TF_Run(session, options,\n\u001b[0;32m   1301\u001b[0m                                    \u001b[0mfeed_dict\u001b[0m\u001b[1;33m,\u001b[0m \u001b[0mfetch_list\u001b[0m\u001b[1;33m,\u001b[0m \u001b[0mtarget_list\u001b[0m\u001b[1;33m,\u001b[0m\u001b[1;33m\u001b[0m\u001b[0m\n\u001b[1;32m-> 1302\u001b[1;33m                                    status, run_metadata)\n\u001b[0m\u001b[0;32m   1303\u001b[0m \u001b[1;33m\u001b[0m\u001b[0m\n\u001b[0;32m   1304\u001b[0m     \u001b[1;32mdef\u001b[0m \u001b[0m_prun_fn\u001b[0m\u001b[1;33m(\u001b[0m\u001b[0msession\u001b[0m\u001b[1;33m,\u001b[0m \u001b[0mhandle\u001b[0m\u001b[1;33m,\u001b[0m \u001b[0mfeed_dict\u001b[0m\u001b[1;33m,\u001b[0m \u001b[0mfetch_list\u001b[0m\u001b[1;33m)\u001b[0m\u001b[1;33m:\u001b[0m\u001b[1;33m\u001b[0m\u001b[0m\n",
      "\u001b[1;31mKeyboardInterrupt\u001b[0m: "
     ]
    }
   ],
   "source": [
    "model.fit(X_tmp, y_tmp[:, 0], epochs=10000, batch_size=32)"
   ]
  },
  {
   "cell_type": "code",
   "execution_count": 35,
   "metadata": {},
   "outputs": [
    {
     "data": {
      "text/plain": [
       "0.93397002093214965"
      ]
     },
     "execution_count": 35,
     "metadata": {},
     "output_type": "execute_result"
    }
   ],
   "source": [
    "np.sqrt(0.8723)"
   ]
  },
  {
   "cell_type": "code",
   "execution_count": null,
   "metadata": {
    "collapsed": true
   },
   "outputs": [],
   "source": []
  },
  {
   "cell_type": "code",
   "execution_count": 36,
   "metadata": {
    "collapsed": true
   },
   "outputs": [],
   "source": [
    "import datetime"
   ]
  },
  {
   "cell_type": "code",
   "execution_count": 37,
   "metadata": {
    "collapsed": true
   },
   "outputs": [],
   "source": [
    "row = '2017-11-07'\n",
    "timestamp_as_list = row.split('-')\n",
    "year = int(timestamp_as_list[0])\n",
    "month = int(timestamp_as_list[1])\n",
    "day = int(timestamp_as_list[2])\n",
    "date = datetime.datetime(year=year, month=month, day=day, tzinfo=datetime.timezone.utc)  # Convert to UTC time\n",
    "unix_time = int(date.timestamp())"
   ]
  },
  {
   "cell_type": "code",
   "execution_count": 38,
   "metadata": {},
   "outputs": [
    {
     "data": {
      "text/plain": [
       "array([[ 5.67229414]], dtype=float32)"
      ]
     },
     "execution_count": 38,
     "metadata": {},
     "output_type": "execute_result"
    }
   ],
   "source": [
    "model.predict(np.array([[unix_time, 5.8600]]))"
   ]
  },
  {
   "cell_type": "code",
   "execution_count": 39,
   "metadata": {
    "collapsed": true
   },
   "outputs": [],
   "source": [
    "prediction = model.predict(X_tmp_te)"
   ]
  },
  {
   "cell_type": "code",
   "execution_count": 40,
   "metadata": {
    "collapsed": true
   },
   "outputs": [],
   "source": [
    "prediction_tr = model.predict(X_tmp)"
   ]
  },
  {
   "cell_type": "code",
   "execution_count": 41,
   "metadata": {
    "collapsed": true
   },
   "outputs": [],
   "source": [
    "from sklearn.metrics import mean_squared_error"
   ]
  },
  {
   "cell_type": "code",
   "execution_count": 42,
   "metadata": {
    "collapsed": true
   },
   "outputs": [],
   "source": [
    "import matplotlib.pyplot as plt\n",
    "%matplotlib inline"
   ]
  },
  {
   "cell_type": "code",
   "execution_count": 43,
   "metadata": {},
   "outputs": [
    {
     "data": {
      "text/plain": [
       "[<matplotlib.lines.Line2D at 0x10c7b3470f0>]"
      ]
     },
     "execution_count": 43,
     "metadata": {},
     "output_type": "execute_result"
    },
    {
     "data": {
      "image/png": "[encoded data removed]",
      "text/plain": [
       "<matplotlib.figure.Figure at 0x10b90a142b0>"
      ]
     },
     "metadata": {},
     "output_type": "display_data"
    }
   ],
   "source": [
    "plt.plot(X_tr.values, y_tr.values[:, 0])"
   ]
  },
  {
   "cell_type": "code",
   "execution_count": 44,
   "metadata": {},
   "outputs": [
    {
     "data": {
      "text/plain": [
       "[<matplotlib.lines.Line2D at 0x10c82e7db70>]"
      ]
     },
     "execution_count": 44,
     "metadata": {},
     "output_type": "execute_result"
    },
    {
     "data": {
      "image/png": "[encoded data removed]",
      "text/plain": [
       "<matplotlib.figure.Figure at 0x10c82de37b8>"
      ]
     },
     "metadata": {},
     "output_type": "display_data"
    }
   ],
   "source": [
    "plt.plot(X_tmp[:, 0], prediction_tr[:, 0])"
   ]
  },
  {
   "cell_type": "code",
   "execution_count": 45,
   "metadata": {},
   "outputs": [
    {
     "data": {
      "text/plain": [
       "[<matplotlib.lines.Line2D at 0x10c82f13cc0>]"
      ]
     },
     "execution_count": 45,
     "metadata": {},
     "output_type": "execute_result"
    },
    {
     "data": {
      "image/png": "[encoded data removed]",
      "text/plain": [
       "<matplotlib.figure.Figure at 0x10c82e9c8d0>"
      ]
     },
     "metadata": {},
     "output_type": "display_data"
    }
   ],
   "source": [
    "plt.plot(X_te.values, y_te.values[:, 0])"
   ]
  },
  {
   "cell_type": "code",
   "execution_count": 46,
   "metadata": {},
   "outputs": [
    {
     "data": {
      "text/plain": [
       "[<matplotlib.lines.Line2D at 0x10c8339ab38>]"
      ]
     },
     "execution_count": 46,
     "metadata": {},
     "output_type": "execute_result"
    },
    {
     "data": {
      "image/png": "[encoded data removed]",
      "text/plain": [
       "<matplotlib.figure.Figure at 0x10c82f417f0>"
      ]
     },
     "metadata": {},
     "output_type": "display_data"
    }
   ],
   "source": [
    "plt.plot(X_tmp_te[:, 0], prediction[:, 0])"
   ]
  },
  {
   "cell_type": "code",
   "execution_count": 47,
   "metadata": {
    "scrolled": true
   },
   "outputs": [
    {
     "data": {
      "text/plain": [
       "array([ 5.7 ,  5.61,  5.46,  5.45,  5.5 ,  5.59,  5.61,  5.84,  5.6 ,\n",
       "        5.51,  5.63,  5.67,  5.66,  5.72,  5.78,  5.8 ,  5.73,  5.73,\n",
       "        5.65,  5.7 ,  5.72,  5.7 ,  5.69,  5.67,  5.62,  5.46,  5.5 ,\n",
       "        5.47,  5.33,  5.2 ,  5.16,  5.13,  5.16,  5.2 ,  5.2 ,  5.38,\n",
       "        5.23,  5.18,  5.2 ,  5.15,  5.07,  5.09,  5.07,  5.07,  5.05,\n",
       "        5.01,  5.01,  5.02,  5.17,  5.08,  4.93,  4.87,  4.99,  4.87,\n",
       "        4.86,  5.  ,  5.1 ,  5.15,  5.11,  5.14,  5.29,  5.26,  5.27,\n",
       "        5.24,  4.99,  5.13,  5.17,  5.2 ,  5.29,  5.32,  5.24,  5.19,\n",
       "        5.1 ,  5.13,  5.17,  5.13,  5.13,  5.16,  5.2 ,  5.17,  5.08,\n",
       "        5.02,  4.94,  4.94,  4.9 ,  4.86,  5.07,  4.87,  5.03,  4.86,\n",
       "        4.87,  4.87,  4.8 ,  4.73,  4.75,  4.9 ,  4.94,  5.16,  5.19,\n",
       "        5.21,  5.33,  5.38,  5.26,  5.18,  5.27,  5.17,  5.12,  5.26,\n",
       "        5.18,  4.97,  4.95,  5.  ,  5.08,  5.12,  5.05,  5.05,  5.  ,\n",
       "        4.89,  4.9 ,  5.03,  5.05,  5.2 ,  5.36,  5.3 ,  5.2 ,  5.23,\n",
       "        5.27,  5.31,  5.3 ,  5.41,  5.44,  5.37,  5.37,  5.36,  5.33,\n",
       "        5.27,  5.39,  5.26,  5.25,  5.33,  5.34,  5.34,  5.31,  5.29,\n",
       "        5.21,  5.15,  5.14,  5.03,  5.09,  4.98,  5.01,  5.02,  5.08,\n",
       "        5.03,  4.92,  4.99,  5.02,  5.  ,  5.12,  5.25,  5.27,  5.27,\n",
       "        5.22,  5.09,  5.02,  5.15,  5.11,  5.15,  5.26,  5.4 ,  5.45,\n",
       "        5.57,  5.82,  5.87,  5.9 ,  5.76,  5.91,  6.01,  6.09,  6.06,\n",
       "        6.05,  6.04,  6.14,  6.29,  6.34,  6.22,  6.1 ,  5.98,  6.14,\n",
       "        6.23,  6.21,  5.99,  6.01,  5.96,  5.98,  6.15,  6.18,  6.22,\n",
       "        6.23,  6.22,  6.17,  6.29,  6.3 ,  6.3 ,  6.3 ,  6.3 ,  6.35,\n",
       "        6.38,  6.54,  6.68,  6.72,  6.66,  6.55,  6.41,  6.22,  6.27,\n",
       "        6.26,  6.28,  6.31,  6.47,  6.42,  6.42,  6.28,  6.31,  6.59,\n",
       "        6.64,  6.46,  6.53,  6.45,  6.35,  6.3 ,  6.23,  6.23,  6.41,\n",
       "        6.54,  6.53,  6.63,  6.62,  6.64,  6.67,  6.76,  6.55,  6.53,\n",
       "        6.52,  6.57,  6.48,  6.27,  6.35,  6.01,  6.22,  6.31,  6.53,\n",
       "        6.4 ,  6.5 ,  6.72,  6.62,  6.56,  6.79,  6.95,  6.94,  6.99,\n",
       "        6.85,  6.89,  6.88,  6.99,  7.09,  7.03,  6.94,  6.75,  6.7 ,\n",
       "        6.65,  6.76,  6.7 ,  7.  ,  7.11,  7.16,  7.35,  7.38,  7.37,\n",
       "        7.43,  7.48,  7.43,  7.32,  7.17,  7.25,  7.2 ,  7.11,  7.15,\n",
       "        7.28,  7.42,  7.51,  7.72,  7.88,  7.96,  7.69,  7.59,  7.55,\n",
       "        7.51,  7.52,  7.52,  7.6 ,  7.5 ,  7.43,  7.46,  7.31,  7.31,\n",
       "        7.28,  7.35,  7.44,  7.51,  7.51,  7.54,  7.55,  7.64,  7.69,\n",
       "        7.92,  7.67,  7.78,  8.01,  8.02,  7.97,  7.9 ,  7.78,  8.  ,\n",
       "        7.96,  7.92,  7.91,  7.96,  7.96,  7.93,  7.76,  7.71,  7.75,\n",
       "        7.69,  7.62,  7.41,  7.36,  7.41,  7.35,  7.46,  7.32,  7.24,\n",
       "        6.97,  6.96,  6.98,  7.09,  7.13,  7.17,  7.21,  7.18,  7.08,\n",
       "        7.19,  7.15,  7.07,  7.06,  7.12,  6.94,  6.92,  6.98,  7.  ,\n",
       "        6.86,  6.77,  6.89,  6.87,  6.75,  6.93,  6.77,  6.72,  6.72,\n",
       "        6.81,  6.8 ,  7.17,  7.06,  6.95,  6.93,  7.16,  7.25,  6.89,\n",
       "        6.97,  7.1 ,  7.01,  6.99,  6.92,  7.07,  6.93,  6.96,  6.92,\n",
       "        6.84,  6.85,  6.9 ,  7.01,  7.01,  6.97,  6.95,  7.11,  7.09,\n",
       "        7.01,  7.09,  7.06,  7.09,  7.13,  7.1 ,  7.23,  7.16,  7.22,\n",
       "        7.19,  6.94,  6.91,  6.95,  7.05,  7.03,  7.11,  7.27,  7.06,\n",
       "        6.96,  6.96,  7.1 ,  7.03,  6.99,  6.98,  7.04,  7.02,  7.11,\n",
       "        7.08,  6.94,  6.86,  6.94,  7.1 ,  7.05,  6.96,  7.13,  7.21,\n",
       "        6.95,  6.84,  6.93,  6.84,  6.83,  6.76,  6.81,  6.82,  6.9 ,\n",
       "        7.1 ,  7.12,  7.17,  7.08,  7.02,  6.83,  6.84,  6.95,  6.85,\n",
       "        6.86,  6.64,  6.7 ,  6.64,  6.75,  6.62,  6.79,  6.76,  6.88,\n",
       "        6.79,  6.93,  6.96,  6.95,  6.81,  7.  ,  7.18,  7.22,  7.2 ,\n",
       "        7.11,  7.09,  7.07,  7.02,  7.1 ,  7.14,  7.18,  7.07,  7.  ,\n",
       "        7.01,  6.95,  7.11,  7.11,  7.05,  7.11,  7.05,  7.15,  7.33,\n",
       "        7.33,  7.37,  7.25,  7.28])"
      ]
     },
     "execution_count": 47,
     "metadata": {},
     "output_type": "execute_result"
    }
   ],
   "source": [
    "y_te.values[:, 0]"
   ]
  },
  {
   "cell_type": "code",
   "execution_count": 48,
   "metadata": {
    "scrolled": true
   },
   "outputs": [
    {
     "data": {
      "text/plain": [
       "array([ 5.40544558,  5.24490547,  5.23425293,  5.28788614,  5.38430357,\n",
       "        5.40589571,  5.65172291,  5.39532471,  5.29904652,  5.42754745,\n",
       "        5.47051716,  5.45988894,  5.52408981,  5.58824921,  5.60966873,\n",
       "        5.53509665,  5.53516102,  5.44970989,  5.50322962,  5.52466726,\n",
       "        5.50348663,  5.49286175,  5.4715457 ,  5.41813564,  5.24689913,\n",
       "        5.2899437 ,  5.25787067,  5.10783577,  4.96834326,  4.92543411,\n",
       "        4.89338636,  4.92569065,  4.96872997,  4.96879435,  5.16204643,\n",
       "        5.0012722 ,  4.94763088,  4.96918106,  4.91552591,  4.82959032,\n",
       "        4.8512888 ,  4.82984686,  4.82991219,  4.80846643,  4.76569653,\n",
       "        4.76576042,  4.77658272,  4.93791866,  4.84124565,  4.68004513,\n",
       "        4.61549711,  4.74475527,  4.61562634,  4.60491943,  4.75583839,\n",
       "        4.86345816,  4.91726589,  4.87433863,  4.90664768,  5.06793976,\n",
       "        5.03580332,  5.04660177,  5.01445866,  4.74578714,  4.89654446,\n",
       "        4.93959475,  4.97188711,  5.06858444,  5.100842  ,  5.01516724,\n",
       "        4.96153259,  4.86487627,  4.89719009,  4.94023895,  4.89744759,\n",
       "        4.89751244,  4.92981577,  4.97285318,  4.94068956,  4.84414721,\n",
       "        4.77967882,  4.69365025,  4.6937151 ,  4.65071201,  4.6078248 ,\n",
       "        4.83390951,  4.61872482,  4.79108238,  4.60827637,  4.61911201,\n",
       "        4.61917639,  4.54382372,  4.46842957,  4.49018764,  4.65187311,\n",
       "        4.69500542,  4.93168449,  4.96398067,  4.98565674,  5.11453199,\n",
       "        5.16822624,  5.03953934,  4.95368862,  5.05053091,  4.94320297,\n",
       "        4.8895359 ,  5.03998995,  4.95413971,  4.72852278,  4.70706081,\n",
       "        4.76093483,  4.84704971,  4.89030886,  4.81510925,  4.8151741 ,\n",
       "        4.76145077,  4.64310503,  4.65406799,  4.79404926,  4.81562519,\n",
       "        4.97691345,  5.14870834,  5.08453274,  4.97723484,  5.00951862,\n",
       "        5.0525279 ,  5.09552097,  5.08498335,  5.2030282 ,  5.23524714,\n",
       "        5.16026926,  5.16033411,  5.14980221,  5.11768675,  5.05336475,\n",
       "        5.18216562,  5.0427599 ,  5.03221703,  5.11813831,  5.12892962,\n",
       "        5.12899399,  5.09687328,  5.07566977,  4.9898448 ,  4.92545128,\n",
       "        4.91476965,  4.7966938 ,  4.86128235,  4.74302721,  4.77537155,\n",
       "        4.78619385,  4.85091829,  4.79720926,  4.678895  ,  4.75430346,\n",
       "        4.78664541,  4.76532125,  4.89443493,  5.03415012,  5.05568314,\n",
       "        5.05574799,  5.00225925,  4.86263704,  4.78741932,  4.92725658,\n",
       "        4.88433075,  4.92751455,  5.04572248,  5.19597626,  5.24962997,\n",
       "        5.37820005,  5.6455884 ,  5.69900131,  5.7310605 ,  5.58172035,\n",
       "        5.74185038,  5.84860039,  5.93381596,  5.90195704,  5.89137983,\n",
       "        5.88099003,  5.98744249,  6.1468358 ,  6.19994211,  6.072649  ,\n",
       "        5.94528723,  5.81760788,  5.98795414,  6.08365345,  6.06247425,\n",
       "        5.82864475,  5.85000944,  5.79681158,  5.81818485,  5.99916267,\n",
       "        6.03123951,  6.07379961,  6.08448458,  6.07392883,  6.02086878,\n",
       "        6.14849854,  6.15917397,  6.15923882,  6.15930319,  6.1595583 ,\n",
       "        6.21265507,  6.24452305,  6.41398382,  6.56195879,  6.60435486,\n",
       "        6.54110146,  6.42494059,  6.27682352,  6.07552767,  6.12868071,\n",
       "        6.11812973,  6.13942289,  6.17150974,  6.34113073,  6.28824806,\n",
       "        6.28831148,  6.13993311,  6.17195749,  6.46850109,  6.52138615,\n",
       "        6.33111906,  6.40525723,  6.32078648,  6.21489191,  6.16192389,\n",
       "        6.08768368,  6.08774757,  6.27886629,  6.41653633,  6.40602303,\n",
       "        6.51178169,  6.50128222,  6.52259779,  6.55439949,  6.64940262,\n",
       "        6.42774868,  6.4067893 ,  6.39627504,  6.44921207,  6.35407877,\n",
       "        6.13155842,  6.21661758,  5.85539293,  6.07879066,  6.1743865 ,\n",
       "        6.40749073,  6.27006102,  6.37600994,  6.60849667,  6.50300407,\n",
       "        6.43966103,  6.68261242,  6.85106468,  6.84061527,  6.89322186,\n",
       "        6.74605989,  6.78834867,  6.77789021,  6.89360476,  6.99863243,\n",
       "        6.93573761,  6.84137821,  6.64140701,  6.58873606,  6.53602552,\n",
       "        6.65214109,  6.58905411,  6.90493441,  7.02043152,  7.072896  ,\n",
       "        7.27169466,  7.30320597,  7.29283047,  7.35549879,  7.40768337,\n",
       "        7.35562515,  7.24099016,  7.08413315,  7.16793633,  7.11567545,\n",
       "        7.02144575,  7.06356239,  7.19969034,  7.3459549 ,  7.43982124,\n",
       "        7.65817451,  7.82412052,  7.90687561,  7.62735558,  7.52351761,\n",
       "        7.48215771,  7.44058037,  7.451056  ,  7.45111942,  7.53442192,\n",
       "        7.4305439 ,  7.35765076,  7.38899279,  7.2325058 ,  7.23257017,\n",
       "        7.20140266,  7.27460861,  7.36858511,  7.44159126,  7.44165373,\n",
       "        7.47307777,  7.48354959,  7.57719707,  7.62918615,  7.86749935,\n",
       "        7.60867453,  7.72285032,  7.96075964,  7.97114038,  7.91959572,\n",
       "        7.84745121,  7.72329187,  7.95088053,  7.9096446 ,  7.86837864,\n",
       "        7.85823154,  7.90995979,  7.91002369,  7.87909222,  7.70319271,\n",
       "        7.65152168,  7.69307613,  7.6308918 ,  7.55824518,  7.33963823,\n",
       "        7.28764677,  7.33989143,  7.27733231,  7.39215517,  7.24631357,\n",
       "        7.16273689,  6.87971163,  6.86926699,  6.89034557,  7.00599861,\n",
       "        7.04799795,  7.08997059,  7.13191557,  7.10056973,  6.99595356,\n",
       "        7.11129522,  7.06946373,  6.98565578,  6.97522783,  7.038342  ,\n",
       "        6.84945393,  6.82848978,  6.89161634,  6.91268826,  6.76568699,\n",
       "        6.6709609 ,  6.79738235,  6.776402  ,  6.65026093,  6.83983135,\n",
       "        6.67147017,  6.61881876,  6.6188817 ,  6.71393299,  6.70346308,\n",
       "        7.0921917 ,  6.97694206,  6.8614912 ,  6.84065819,  7.08209801,\n",
       "        7.17636871,  6.79878092,  6.88295317,  7.0195961 ,  6.9252243 ,\n",
       "        6.90428209,  6.83077955,  6.98838711,  6.84154844,  6.8731451 ,\n",
       "        6.83116102,  6.74705172,  6.75764275,  6.81044626,  6.92611265,\n",
       "        6.92617655,  6.88422441,  6.86327171,  7.03141403,  7.01050568,\n",
       "        6.92662191,  7.01063347,  6.97922897,  7.0108881 ,  7.05288553,\n",
       "        7.02150059,  7.15772867,  7.08450794,  7.14751863,  7.11617994,\n",
       "        6.85396814,  6.82248974,  6.86460686,  6.96987915,  6.9489522 ,\n",
       "        7.03293753,  7.20051765,  6.98075294,  6.87581539,  6.87587881,\n",
       "        7.02289772,  6.9495244 ,  6.90771437,  6.89727306,  6.96033716,\n",
       "        6.93940783,  7.03389072,  7.00262213,  6.85568523,  6.77160501,\n",
       "        6.85581255,  7.02384996,  6.97159433,  6.87715101,  7.05561399,\n",
       "        7.13946247,  6.86683226,  6.75131702,  6.84606266,  6.75144339,\n",
       "        6.74097872,  6.66749001,  6.72023487,  6.73083115,  6.81508923,\n",
       "        7.0251832 ,  7.04633999,  7.09878874,  7.00452805,  6.94163179,\n",
       "        6.74193382,  6.75265217,  6.86842108,  6.76330662,  6.77389479,\n",
       "        6.54204369,  6.60555744,  6.54229689,  6.65841389,  6.52130508,\n",
       "        6.70088625,  6.6693368 ,  6.79576778,  6.70107746,  6.84847927,\n",
       "        6.88020134,  6.86975622,  6.72252703,  6.92241192,  7.11122847,\n",
       "        7.15335178,  7.13248348,  7.03827   ,  7.01736355,  6.99664211,\n",
       "        6.9442358 ,  7.02823162,  7.07021856,  7.11230707,  6.997087  ,\n",
       "        6.92368174,  6.93424654,  6.8712821 ,  7.0394125 ,  7.03947592,\n",
       "        6.97661209,  7.03960371,  6.97673941,  7.08177423,  7.27012587,\n",
       "        7.27018929,  7.31201744,  7.18670225,  7.21826077], dtype=float32)"
      ]
     },
     "execution_count": 48,
     "metadata": {},
     "output_type": "execute_result"
    }
   ],
   "source": [
    "prediction[:, 0]"
   ]
  },
  {
   "cell_type": "code",
   "execution_count": 51,
   "metadata": {},
   "outputs": [
    {
     "data": {
      "text/plain": [
       "array([1509667200, 1509580800, 1509494400, 1509408000, 1509321600,\n",
       "       1509062400, 1508976000, 1508889600, 1508803200, 1508716800,\n",
       "       1508457600, 1508371200, 1508284800, 1508198400, 1508112000,\n",
       "       1507852800, 1507766400, 1507680000, 1507593600, 1507507200,\n",
       "       1507248000, 1507161600, 1507075200, 1506988800, 1506902400,\n",
       "       1506643200, 1506556800, 1506470400, 1506384000, 1506297600,\n",
       "       1506038400, 1505952000, 1505865600, 1505779200, 1505692800,\n",
       "       1505433600, 1505347200, 1505260800, 1505174400, 1505088000,\n",
       "       1504828800, 1504742400, 1504656000, 1504569600, 1504224000,\n",
       "       1504137600, 1504051200, 1503964800, 1503878400, 1503619200,\n",
       "       1503532800, 1503446400, 1503360000, 1503273600, 1503014400,\n",
       "       1502928000, 1502841600, 1502755200, 1502668800, 1502409600,\n",
       "       1502323200, 1502236800, 1502150400, 1502064000, 1501804800,\n",
       "       1501718400, 1501632000, 1501545600, 1501459200, 1501200000,\n",
       "       1501113600, 1501027200, 1500940800, 1500854400, 1500595200,\n",
       "       1500508800, 1500422400, 1500336000, 1500249600, 1499990400,\n",
       "       1499904000, 1499817600, 1499731200, 1499644800, 1499385600,\n",
       "       1499299200, 1499212800, 1499040000, 1498780800, 1498694400,\n",
       "       1498608000, 1498521600, 1498435200, 1498176000, 1498089600,\n",
       "       1498003200, 1497916800, 1497830400, 1497571200, 1497484800,\n",
       "       1497398400, 1497312000, 1497225600, 1496966400, 1496880000,\n",
       "       1496793600, 1496707200, 1496620800, 1496361600, 1496275200,\n",
       "       1496188800, 1496102400, 1495756800, 1495670400, 1495584000,\n",
       "       1495497600, 1495411200, 1495152000, 1495065600, 1494979200,\n",
       "       1494892800, 1494806400, 1494547200, 1494460800, 1494374400,\n",
       "       1494288000, 1494201600, 1493942400, 1493856000, 1493769600,\n",
       "       1493683200, 1493596800, 1493337600, 1493251200, 1493164800,\n",
       "       1493078400, 1492992000, 1492732800, 1492646400, 1492560000,\n",
       "       1492473600, 1492387200, 1492041600, 1491955200, 1491868800,\n",
       "       1491782400, 1491523200, 1491436800, 1491350400, 1491264000,\n",
       "       1491177600, 1490918400, 1490832000, 1490745600, 1490659200,\n",
       "       1490572800, 1490313600, 1490227200, 1490140800, 1490054400,\n",
       "       1489968000, 1489708800, 1489622400, 1489536000, 1489449600,\n",
       "       1489363200, 1489104000, 1489017600, 1488931200, 1488844800,\n",
       "       1488758400, 1488499200, 1488412800, 1488326400, 1488240000,\n",
       "       1488153600, 1487894400, 1487808000, 1487721600, 1487635200,\n",
       "       1487289600, 1487203200, 1487116800, 1487030400, 1486944000,\n",
       "       1486684800, 1486598400, 1486512000, 1486425600, 1486339200,\n",
       "       1486080000, 1485993600, 1485907200, 1485820800, 1485734400,\n",
       "       1485475200, 1485388800, 1485302400, 1485216000, 1485129600,\n",
       "       1484870400, 1484784000, 1484697600, 1484611200, 1484265600,\n",
       "       1484179200, 1484092800, 1484006400, 1483920000, 1483660800,\n",
       "       1483574400, 1483488000, 1483401600, 1483056000, 1482969600,\n",
       "       1482883200, 1482796800, 1482451200, 1482364800, 1482278400,\n",
       "       1482192000, 1482105600, 1481846400, 1481760000, 1481673600,\n",
       "       1481587200, 1481500800, 1481241600, 1481155200, 1481068800,\n",
       "       1480982400, 1480896000, 1480636800, 1480550400, 1480464000,\n",
       "       1480377600, 1480291200, 1480032000, 1479859200, 1479772800,\n",
       "       1479686400, 1479427200, 1479340800, 1479254400, 1479168000,\n",
       "       1479081600, 1478822400, 1478736000, 1478649600, 1478563200,\n",
       "       1478476800, 1478217600, 1478131200, 1478044800, 1477958400,\n",
       "       1477872000, 1477612800, 1477526400, 1477440000, 1477353600,\n",
       "       1477267200, 1477008000, 1476921600, 1476835200, 1476748800,\n",
       "       1476662400, 1476403200, 1476316800, 1476230400, 1476144000,\n",
       "       1476057600, 1475798400, 1475712000, 1475625600, 1475539200,\n",
       "       1475452800, 1475193600, 1475107200, 1475020800, 1474934400,\n",
       "       1474848000, 1474588800, 1474502400, 1474416000, 1474329600,\n",
       "       1474243200, 1473984000, 1473897600, 1473811200, 1473724800,\n",
       "       1473638400, 1473379200, 1473292800, 1473206400, 1473120000,\n",
       "       1472774400, 1472688000, 1472601600, 1472515200, 1472428800,\n",
       "       1472169600, 1472083200, 1471996800, 1471910400, 1471824000,\n",
       "       1471564800, 1471478400, 1471392000, 1471305600, 1471219200,\n",
       "       1470960000, 1470873600, 1470787200, 1470700800, 1470614400,\n",
       "       1470355200, 1470268800, 1470182400, 1470096000, 1470009600,\n",
       "       1469750400, 1469664000, 1469577600, 1469491200, 1469404800,\n",
       "       1469145600, 1469059200, 1468972800, 1468886400, 1468800000,\n",
       "       1468540800, 1468454400, 1468368000, 1468281600, 1468195200,\n",
       "       1467936000, 1467849600, 1467763200, 1467676800, 1467331200,\n",
       "       1467244800, 1467158400, 1467072000, 1466985600, 1466726400,\n",
       "       1466640000, 1466553600, 1466467200, 1466380800, 1466121600,\n",
       "       1466035200, 1465948800, 1465862400, 1465776000, 1465516800,\n",
       "       1465430400, 1465344000, 1465257600, 1465171200, 1464912000,\n",
       "       1464825600, 1464739200, 1464652800, 1464307200, 1464220800,\n",
       "       1464134400, 1464048000, 1463961600, 1463702400, 1463616000,\n",
       "       1463529600, 1463443200, 1463356800, 1463097600, 1463011200,\n",
       "       1462924800, 1462838400, 1462752000, 1462492800, 1462406400,\n",
       "       1462320000, 1462233600, 1462147200, 1461888000, 1461801600,\n",
       "       1461715200, 1461628800, 1461542400, 1461283200, 1461196800,\n",
       "       1461110400, 1461024000, 1460937600, 1460678400, 1460592000,\n",
       "       1460505600, 1460419200, 1460332800, 1460073600, 1459987200,\n",
       "       1459900800, 1459814400, 1459728000, 1459468800, 1459382400,\n",
       "       1459296000, 1459209600, 1459123200, 1458777600, 1458691200,\n",
       "       1458604800, 1458518400, 1458259200, 1458172800, 1458086400,\n",
       "       1458000000, 1457913600, 1457654400, 1457568000, 1457481600,\n",
       "       1457395200, 1457308800, 1457049600, 1456963200, 1456876800,\n",
       "       1456790400, 1456704000, 1456444800, 1456358400, 1456272000,\n",
       "       1456185600, 1456099200, 1455840000, 1455753600, 1455667200,\n",
       "       1455580800, 1455235200, 1455148800, 1455062400, 1454976000,\n",
       "       1454889600, 1454630400, 1454544000, 1454457600, 1454371200,\n",
       "       1454284800, 1454025600, 1453939200, 1453852800, 1453766400,\n",
       "       1453680000, 1453420800, 1453334400, 1453248000, 1453161600,\n",
       "       1452816000, 1452729600, 1452643200, 1452556800, 1452470400,\n",
       "       1452211200, 1452124800, 1452038400, 1451952000, 1451865600,\n",
       "       1451520000, 1451433600, 1451347200, 1451260800, 1450915200,\n",
       "       1450828800, 1450742400, 1450656000, 1450396800, 1450310400,\n",
       "       1450224000, 1450137600, 1450051200, 1449792000, 1449705600,\n",
       "       1449619200, 1449532800, 1449446400, 1449187200, 1449100800,\n",
       "       1449014400, 1448928000, 1448841600, 1448582400, 1448409600], dtype=int64)"
      ]
     },
     "execution_count": 51,
     "metadata": {},
     "output_type": "execute_result"
    }
   ],
   "source": [
    "X_te.values"
   ]
  },
  {
   "cell_type": "code",
   "execution_count": null,
   "metadata": {
    "collapsed": true
   },
   "outputs": [],
   "source": []
  },
  {
   "cell_type": "code",
   "execution_count": null,
   "metadata": {
    "collapsed": true
   },
   "outputs": [],
   "source": []
  }
 ],
 "metadata": {
  "kernelspec": {
   "display_name": "Python 3",
   "language": "python",
   "name": "python3"
  },
  "language_info": {
   "codemirror_mode": {
    "name": "ipython",
    "version": 3
   },
   "file_extension": ".py",
   "mimetype": "text/x-python",
   "name": "python",
   "nbconvert_exporter": "python",
   "pygments_lexer": "ipython3",
   "version": "3.6.2"
  }
 },
 "nbformat": 4,
 "nbformat_minor": 1
}

{
 "cells": [
  {
   "cell_type": "code",
   "execution_count": 1,
   "metadata": {
    "collapsed": true
   },
   "outputs": [],
   "source": [
    "import pandas as pd"
   ]
  },
  {
   "cell_type": "code",
   "execution_count": 2,
   "metadata": {
    "collapsed": true
   },
   "outputs": [],
   "source": [
    "df_dates = pd.read_csv('./dates_daily_CDR.csv', header=None)\n",
    "df_target = pd.read_csv('./results_daily_CDR.csv', header=None)"
   ]
  },
  {
   "cell_type": "code",
   "execution_count": 3,
   "metadata": {},
   "outputs": [
    {
     "data": {
      "text/html": [
       "<div>\n",
       "<style>\n",
       "    .dataframe thead tr:only-child th {\n",
       "        text-align: right;\n",
       "    }\n",
       "\n",
       "    .dataframe thead th {\n",
       "        text-align: left;\n",
       "    }\n",
       "\n",
       "    .dataframe tbody tr th {\n",
       "        vertical-align: top;\n",
       "    }\n",
       "</style>\n",
       "<table border=\"1\" class=\"dataframe\">\n",
       "  <thead>\n",
       "    <tr style=\"text-align: right;\">\n",
       "      <th></th>\n",
       "      <th>0</th>\n",
       "    </tr>\n",
       "  </thead>\n",
       "  <tbody>\n",
       "    <tr>\n",
       "      <th>0</th>\n",
       "      <td>1509667200</td>\n",
       "    </tr>\n",
       "    <tr>\n",
       "      <th>1</th>\n",
       "      <td>1509580800</td>\n",
       "    </tr>\n",
       "    <tr>\n",
       "      <th>2</th>\n",
       "      <td>1509494400</td>\n",
       "    </tr>\n",
       "    <tr>\n",
       "      <th>3</th>\n",
       "      <td>1509408000</td>\n",
       "    </tr>\n",
       "    <tr>\n",
       "      <th>4</th>\n",
       "      <td>1509321600</td>\n",
       "    </tr>\n",
       "  </tbody>\n",
       "</table>\n",
       "</div>"
      ],
      "text/plain": [
       "            0\n",
       "0  1509667200\n",
       "1  1509580800\n",
       "2  1509494400\n",
       "3  1509408000\n",
       "4  1509321600"
      ]
     },
     "execution_count": 3,
     "metadata": {},
     "output_type": "execute_result"
    }
   ],
   "source": [
    "df_dates.head()"
   ]
  },
  {
   "cell_type": "code",
   "execution_count": 4,
   "metadata": {},
   "outputs": [
    {
     "data": {
      "text/html": [
       "<div>\n",
       "<style>\n",
       "    .dataframe thead tr:only-child th {\n",
       "        text-align: right;\n",
       "    }\n",
       "\n",
       "    .dataframe thead th {\n",
       "        text-align: left;\n",
       "    }\n",
       "\n",
       "    .dataframe tbody tr th {\n",
       "        vertical-align: top;\n",
       "    }\n",
       "</style>\n",
       "<table border=\"1\" class=\"dataframe\">\n",
       "  <thead>\n",
       "    <tr style=\"text-align: right;\">\n",
       "      <th></th>\n",
       "      <th>0</th>\n",
       "      <th>1</th>\n",
       "      <th>2</th>\n",
       "      <th>3</th>\n",
       "    </tr>\n",
       "  </thead>\n",
       "  <tbody>\n",
       "    <tr>\n",
       "      <th>0</th>\n",
       "      <td>5.70</td>\n",
       "      <td>5.94</td>\n",
       "      <td>5.63</td>\n",
       "      <td>5.75</td>\n",
       "    </tr>\n",
       "    <tr>\n",
       "      <th>1</th>\n",
       "      <td>5.61</td>\n",
       "      <td>5.81</td>\n",
       "      <td>5.55</td>\n",
       "      <td>5.78</td>\n",
       "    </tr>\n",
       "    <tr>\n",
       "      <th>2</th>\n",
       "      <td>5.46</td>\n",
       "      <td>5.63</td>\n",
       "      <td>5.44</td>\n",
       "      <td>5.62</td>\n",
       "    </tr>\n",
       "    <tr>\n",
       "      <th>3</th>\n",
       "      <td>5.45</td>\n",
       "      <td>5.48</td>\n",
       "      <td>5.41</td>\n",
       "      <td>5.44</td>\n",
       "    </tr>\n",
       "    <tr>\n",
       "      <th>4</th>\n",
       "      <td>5.50</td>\n",
       "      <td>5.50</td>\n",
       "      <td>5.42</td>\n",
       "      <td>5.45</td>\n",
       "    </tr>\n",
       "  </tbody>\n",
       "</table>\n",
       "</div>"
      ],
      "text/plain": [
       "      0     1     2     3\n",
       "0  5.70  5.94  5.63  5.75\n",
       "1  5.61  5.81  5.55  5.78\n",
       "2  5.46  5.63  5.44  5.62\n",
       "3  5.45  5.48  5.41  5.44\n",
       "4  5.50  5.50  5.42  5.45"
      ]
     },
     "execution_count": 4,
     "metadata": {},
     "output_type": "execute_result"
    }
   ],
   "source": [
    "df_target.head()"
   ]
  },
  {
   "cell_type": "code",
   "execution_count": 5,
   "metadata": {
    "collapsed": true
   },
   "outputs": [],
   "source": [
    "from sklearn.preprocessing import StandardScaler"
   ]
  },
  {
   "cell_type": "code",
   "execution_count": 6,
   "metadata": {
    "collapsed": true
   },
   "outputs": [],
   "source": [
    "normalizer = StandardScaler()"
   ]
  },
  {
   "cell_type": "code",
   "execution_count": 7,
   "metadata": {
    "collapsed": true
   },
   "outputs": [],
   "source": [
    "df = df_target\n",
    "df['dates'] = df_dates"
   ]
  },
  {
   "cell_type": "code",
   "execution_count": 8,
   "metadata": {
    "collapsed": true
   },
   "outputs": [],
   "source": [
    "df.rename(columns={0: 'open', 1:'high', 2:'low',3:'close'}, inplace=True)"
   ]
  },
  {
   "cell_type": "code",
   "execution_count": 9,
   "metadata": {},
   "outputs": [
    {
     "data": {
      "text/html": [
       "<div>\n",
       "<style>\n",
       "    .dataframe thead tr:only-child th {\n",
       "        text-align: right;\n",
       "    }\n",
       "\n",
       "    .dataframe thead th {\n",
       "        text-align: left;\n",
       "    }\n",
       "\n",
       "    .dataframe tbody tr th {\n",
       "        vertical-align: top;\n",
       "    }\n",
       "</style>\n",
       "<table border=\"1\" class=\"dataframe\">\n",
       "  <thead>\n",
       "    <tr style=\"text-align: right;\">\n",
       "      <th></th>\n",
       "      <th>open</th>\n",
       "      <th>high</th>\n",
       "      <th>low</th>\n",
       "      <th>close</th>\n",
       "      <th>dates</th>\n",
       "    </tr>\n",
       "  </thead>\n",
       "  <tbody>\n",
       "    <tr>\n",
       "      <th>0</th>\n",
       "      <td>5.70</td>\n",
       "      <td>5.94</td>\n",
       "      <td>5.63</td>\n",
       "      <td>5.75</td>\n",
       "      <td>1509667200</td>\n",
       "    </tr>\n",
       "    <tr>\n",
       "      <th>1</th>\n",
       "      <td>5.61</td>\n",
       "      <td>5.81</td>\n",
       "      <td>5.55</td>\n",
       "      <td>5.78</td>\n",
       "      <td>1509580800</td>\n",
       "    </tr>\n",
       "    <tr>\n",
       "      <th>2</th>\n",
       "      <td>5.46</td>\n",
       "      <td>5.63</td>\n",
       "      <td>5.44</td>\n",
       "      <td>5.62</td>\n",
       "      <td>1509494400</td>\n",
       "    </tr>\n",
       "    <tr>\n",
       "      <th>3</th>\n",
       "      <td>5.45</td>\n",
       "      <td>5.48</td>\n",
       "      <td>5.41</td>\n",
       "      <td>5.44</td>\n",
       "      <td>1509408000</td>\n",
       "    </tr>\n",
       "    <tr>\n",
       "      <th>4</th>\n",
       "      <td>5.50</td>\n",
       "      <td>5.50</td>\n",
       "      <td>5.42</td>\n",
       "      <td>5.45</td>\n",
       "      <td>1509321600</td>\n",
       "    </tr>\n",
       "  </tbody>\n",
       "</table>\n",
       "</div>"
      ],
      "text/plain": [
       "   open  high   low  close       dates\n",
       "0  5.70  5.94  5.63   5.75  1509667200\n",
       "1  5.61  5.81  5.55   5.78  1509580800\n",
       "2  5.46  5.63  5.44   5.62  1509494400\n",
       "3  5.45  5.48  5.41   5.44  1509408000\n",
       "4  5.50  5.50  5.42   5.45  1509321600"
      ]
     },
     "execution_count": 9,
     "metadata": {},
     "output_type": "execute_result"
    }
   ],
   "source": [
    "df.head()"
   ]
  },
  {
   "cell_type": "code",
   "execution_count": 10,
   "metadata": {},
   "outputs": [
    {
     "data": {
      "text/plain": [
       "(4490, 5)"
      ]
     },
     "execution_count": 10,
     "metadata": {},
     "output_type": "execute_result"
    }
   ],
   "source": [
    "df.shape"
   ]
  },
  {
   "cell_type": "code",
   "execution_count": 11,
   "metadata": {
    "collapsed": true
   },
   "outputs": [],
   "source": [
    "df_train, df_test = df[490:], df[:490]"
   ]
  },
  {
   "cell_type": "code",
   "execution_count": 12,
   "metadata": {},
   "outputs": [
    {
     "data": {
      "text/html": [
       "<div>\n",
       "<style>\n",
       "    .dataframe thead tr:only-child th {\n",
       "        text-align: right;\n",
       "    }\n",
       "\n",
       "    .dataframe thead th {\n",
       "        text-align: left;\n",
       "    }\n",
       "\n",
       "    .dataframe tbody tr th {\n",
       "        vertical-align: top;\n",
       "    }\n",
       "</style>\n",
       "<table border=\"1\" class=\"dataframe\">\n",
       "  <thead>\n",
       "    <tr style=\"text-align: right;\">\n",
       "      <th></th>\n",
       "      <th>open</th>\n",
       "      <th>high</th>\n",
       "      <th>low</th>\n",
       "      <th>close</th>\n",
       "      <th>dates</th>\n",
       "    </tr>\n",
       "  </thead>\n",
       "  <tbody>\n",
       "    <tr>\n",
       "      <th>485</th>\n",
       "      <td>7.33</td>\n",
       "      <td>7.3501</td>\n",
       "      <td>7.145</td>\n",
       "      <td>7.15</td>\n",
       "      <td>1449014400</td>\n",
       "    </tr>\n",
       "    <tr>\n",
       "      <th>486</th>\n",
       "      <td>7.33</td>\n",
       "      <td>7.3950</td>\n",
       "      <td>7.300</td>\n",
       "      <td>7.36</td>\n",
       "      <td>1448928000</td>\n",
       "    </tr>\n",
       "    <tr>\n",
       "      <th>487</th>\n",
       "      <td>7.37</td>\n",
       "      <td>7.4000</td>\n",
       "      <td>7.260</td>\n",
       "      <td>7.32</td>\n",
       "      <td>1448841600</td>\n",
       "    </tr>\n",
       "    <tr>\n",
       "      <th>488</th>\n",
       "      <td>7.25</td>\n",
       "      <td>7.4000</td>\n",
       "      <td>7.240</td>\n",
       "      <td>7.36</td>\n",
       "      <td>1448582400</td>\n",
       "    </tr>\n",
       "    <tr>\n",
       "      <th>489</th>\n",
       "      <td>7.28</td>\n",
       "      <td>7.2800</td>\n",
       "      <td>7.210</td>\n",
       "      <td>7.26</td>\n",
       "      <td>1448409600</td>\n",
       "    </tr>\n",
       "  </tbody>\n",
       "</table>\n",
       "</div>"
      ],
      "text/plain": [
       "     open    high    low  close       dates\n",
       "485  7.33  7.3501  7.145   7.15  1449014400\n",
       "486  7.33  7.3950  7.300   7.36  1448928000\n",
       "487  7.37  7.4000  7.260   7.32  1448841600\n",
       "488  7.25  7.4000  7.240   7.36  1448582400\n",
       "489  7.28  7.2800  7.210   7.26  1448409600"
      ]
     },
     "execution_count": 12,
     "metadata": {},
     "output_type": "execute_result"
    }
   ],
   "source": [
    "df_test.tail()"
   ]
  },
  {
   "cell_type": "code",
   "execution_count": 13,
   "metadata": {},
   "outputs": [
    {
     "data": {
      "text/html": [
       "<div>\n",
       "<style>\n",
       "    .dataframe thead tr:only-child th {\n",
       "        text-align: right;\n",
       "    }\n",
       "\n",
       "    .dataframe thead th {\n",
       "        text-align: left;\n",
       "    }\n",
       "\n",
       "    .dataframe tbody tr th {\n",
       "        vertical-align: top;\n",
       "    }\n",
       "</style>\n",
       "<table border=\"1\" class=\"dataframe\">\n",
       "  <thead>\n",
       "    <tr style=\"text-align: right;\">\n",
       "      <th></th>\n",
       "      <th>open</th>\n",
       "      <th>high</th>\n",
       "      <th>low</th>\n",
       "      <th>close</th>\n",
       "      <th>dates</th>\n",
       "    </tr>\n",
       "  </thead>\n",
       "  <tbody>\n",
       "    <tr>\n",
       "      <th>490</th>\n",
       "      <td>7.22</td>\n",
       "      <td>7.260</td>\n",
       "      <td>7.13</td>\n",
       "      <td>7.26</td>\n",
       "      <td>1448323200</td>\n",
       "    </tr>\n",
       "    <tr>\n",
       "      <th>491</th>\n",
       "      <td>7.17</td>\n",
       "      <td>7.240</td>\n",
       "      <td>7.14</td>\n",
       "      <td>7.23</td>\n",
       "      <td>1448236800</td>\n",
       "    </tr>\n",
       "    <tr>\n",
       "      <th>492</th>\n",
       "      <td>7.06</td>\n",
       "      <td>7.180</td>\n",
       "      <td>7.05</td>\n",
       "      <td>7.16</td>\n",
       "      <td>1447977600</td>\n",
       "    </tr>\n",
       "    <tr>\n",
       "      <th>493</th>\n",
       "      <td>6.91</td>\n",
       "      <td>7.015</td>\n",
       "      <td>6.91</td>\n",
       "      <td>7.01</td>\n",
       "      <td>1447891200</td>\n",
       "    </tr>\n",
       "    <tr>\n",
       "      <th>494</th>\n",
       "      <td>6.79</td>\n",
       "      <td>6.920</td>\n",
       "      <td>6.76</td>\n",
       "      <td>6.91</td>\n",
       "      <td>1447804800</td>\n",
       "    </tr>\n",
       "  </tbody>\n",
       "</table>\n",
       "</div>"
      ],
      "text/plain": [
       "     open   high   low  close       dates\n",
       "490  7.22  7.260  7.13   7.26  1448323200\n",
       "491  7.17  7.240  7.14   7.23  1448236800\n",
       "492  7.06  7.180  7.05   7.16  1447977600\n",
       "493  6.91  7.015  6.91   7.01  1447891200\n",
       "494  6.79  6.920  6.76   6.91  1447804800"
      ]
     },
     "execution_count": 13,
     "metadata": {},
     "output_type": "execute_result"
    }
   ],
   "source": [
    "df_train.head()"
   ]
  },
  {
   "cell_type": "code",
   "execution_count": 14,
   "metadata": {},
   "outputs": [
    {
     "data": {
      "text/plain": [
       "((4000, 5), (490, 5))"
      ]
     },
     "execution_count": 14,
     "metadata": {},
     "output_type": "execute_result"
    }
   ],
   "source": [
    "df_train.shape, df_test.shape"
   ]
  },
  {
   "cell_type": "code",
   "execution_count": 15,
   "metadata": {
    "collapsed": true
   },
   "outputs": [],
   "source": [
    "X_tr, y_tr = df_train['dates'], df_train['open']"
   ]
  },
  {
   "cell_type": "code",
   "execution_count": 16,
   "metadata": {
    "collapsed": true
   },
   "outputs": [],
   "source": [
    "X_te, y_te = df_test['dates'], df_test['open']"
   ]
  },
  {
   "cell_type": "code",
   "execution_count": 17,
   "metadata": {},
   "outputs": [
    {
     "data": {
      "text/plain": [
       "array([ 7.22,  7.17,  7.06, ...,  5.62,  5.62,  5.75])"
      ]
     },
     "execution_count": 17,
     "metadata": {},
     "output_type": "execute_result"
    }
   ],
   "source": [
    "y_tr.values[:-1]"
   ]
  },
  {
   "cell_type": "code",
   "execution_count": 18,
   "metadata": {},
   "outputs": [
    {
     "data": {
      "text/plain": [
       "array([ 7.17,  7.06,  6.91, ...,  5.62,  5.75,  5.75])"
      ]
     },
     "execution_count": 18,
     "metadata": {},
     "output_type": "execute_result"
    }
   ],
   "source": [
    "y_tr.values[1:]"
   ]
  },
  {
   "cell_type": "code",
   "execution_count": null,
   "metadata": {
    "collapsed": true
   },
   "outputs": [],
   "source": []
  },
  {
   "cell_type": "code",
   "execution_count": 19,
   "metadata": {},
   "outputs": [],
   "source": [
    "diffs_tr = y_tr.values[:-1] - y_tr.values[1:]"
   ]
  },
  {
   "cell_type": "code",
   "execution_count": 20,
   "metadata": {},
   "outputs": [],
   "source": [
    "grow_tr = (diffs_tr > 0).astype('int64')"
   ]
  },
  {
   "cell_type": "code",
   "execution_count": 21,
   "metadata": {},
   "outputs": [
    {
     "data": {
      "text/plain": [
       "array([1, 1, 1, ..., 0, 0, 0], dtype=int64)"
      ]
     },
     "execution_count": 21,
     "metadata": {},
     "output_type": "execute_result"
    }
   ],
   "source": [
    "grow_tr"
   ]
  },
  {
   "cell_type": "code",
   "execution_count": 22,
   "metadata": {
    "collapsed": true
   },
   "outputs": [],
   "source": [
    "diffs_te = y_te.values[:-1] - y_te.values[1:]"
   ]
  },
  {
   "cell_type": "code",
   "execution_count": 23,
   "metadata": {
    "collapsed": true
   },
   "outputs": [],
   "source": [
    "grow_te = (diffs_te > 0).astype('int64')"
   ]
  },
  {
   "cell_type": "code",
   "execution_count": 74,
   "metadata": {},
   "outputs": [],
   "source": [
    "X_tr_grow = np.concatenate([X_tr[:-1].values.reshape(-1,1), y_tr[1:].values.reshape(-1, 1)], axis=1)\n",
    "X_te_grow = np.concatenate([X_te[:-1].values.reshape(-1,1), y_te[1:].values.reshape(-1, 1)], axis=1)"
   ]
  },
  {
   "cell_type": "code",
   "execution_count": 79,
   "metadata": {},
   "outputs": [
    {
     "data": {
      "text/plain": [
       "array([[  1.44832320e+09,   7.17000000e+00],\n",
       "       [  1.44823680e+09,   7.06000000e+00],\n",
       "       [  1.44797760e+09,   6.91000000e+00],\n",
       "       ..., \n",
       "       [  9.47116800e+08,   5.62000000e+00],\n",
       "       [  9.47030400e+08,   5.75000000e+00],\n",
       "       [  9.46944000e+08,   5.75000000e+00]])"
      ]
     },
     "execution_count": 79,
     "metadata": {},
     "output_type": "execute_result"
    }
   ],
   "source": [
    "X_tr_grow"
   ]
  },
  {
   "cell_type": "code",
   "execution_count": 80,
   "metadata": {
    "collapsed": true
   },
   "outputs": [],
   "source": [
    "import numpy as np"
   ]
  },
  {
   "cell_type": "code",
   "execution_count": 81,
   "metadata": {},
   "outputs": [],
   "source": [
    "from keras.models import Sequential\n",
    "from keras.layers import Dense, BatchNormalization\n",
    "from keras.activations import relu, elu\n",
    "from keras.layers.advanced_activations import LeakyReLU, PReLU\n",
    "from keras.losses import mean_absolute_error"
   ]
  },
  {
   "cell_type": "code",
   "execution_count": 82,
   "metadata": {},
   "outputs": [
    {
     "data": {
      "text/plain": [
       "((3999, 2), (3999,))"
      ]
     },
     "execution_count": 82,
     "metadata": {},
     "output_type": "execute_result"
    }
   ],
   "source": [
    "X_tr_grow.shape, grow_tr.shape"
   ]
  },
  {
   "cell_type": "code",
   "execution_count": 104,
   "metadata": {
    "collapsed": true
   },
   "outputs": [],
   "source": [
    "model = Sequential()\n",
    "model.add(BatchNormalization(input_shape=(2,)))\n",
    "model.add(Dense(1024, use_bias=False, activation='relu'))\n",
    "model.add(Dense(1024, use_bias=False, activation='relu'))\n",
    "model.add(Dense(1024, use_bias=False, activation='relu'))\n",
    "model.add(Dense(256, use_bias=False, activation='relu'))\n",
    "model.add(Dense(32, use_bias=False, activation='relu'))\n",
    "model.add(Dense(8, use_bias=False, activation='relu'))\n",
    "model.add(Dense(1, use_bias=False, activation='sigmoid'))"
   ]
  },
  {
   "cell_type": "code",
   "execution_count": 105,
   "metadata": {},
   "outputs": [
    {
     "name": "stdout",
     "output_type": "stream",
     "text": [
      "_________________________________________________________________\n",
      "Layer (type)                 Output Shape              Param #   \n",
      "=================================================================\n",
      "batch_normalization_8 (Batch (None, 2)                 8         \n",
      "_________________________________________________________________\n",
      "dense_22 (Dense)             (None, 1024)              2048      \n",
      "_________________________________________________________________\n",
      "dense_23 (Dense)             (None, 1024)              1048576   \n",
      "_________________________________________________________________\n",
      "dense_24 (Dense)             (None, 1024)              1048576   \n",
      "_________________________________________________________________\n",
      "dense_25 (Dense)             (None, 256)               262144    \n",
      "_________________________________________________________________\n",
      "dense_26 (Dense)             (None, 32)                8192      \n",
      "_________________________________________________________________\n",
      "dense_27 (Dense)             (None, 8)                 256       \n",
      "_________________________________________________________________\n",
      "dense_28 (Dense)             (None, 1)                 8         \n",
      "=================================================================\n",
      "Total params: 2,369,808\n",
      "Trainable params: 2,369,804\n",
      "Non-trainable params: 4\n",
      "_________________________________________________________________\n"
     ]
    }
   ],
   "source": [
    "model.summary()"
   ]
  },
  {
   "cell_type": "code",
   "execution_count": 106,
   "metadata": {
    "collapsed": true
   },
   "outputs": [],
   "source": [
    "import datetime"
   ]
  },
  {
   "cell_type": "code",
   "execution_count": 107,
   "metadata": {
    "collapsed": true
   },
   "outputs": [],
   "source": [
    "model.compile('adam', 'binary_crossentropy', metrics=['acc'])"
   ]
  },
  {
   "cell_type": "code",
   "execution_count": null,
   "metadata": {
    "scrolled": true
   },
   "outputs": [
    {
     "name": "stdout",
     "output_type": "stream",
     "text": [
      "Epoch 1/10000\n",
      "3999/3999 [==============================] - 2s 431us/step - loss: 0.6465 - acc: 0.5854\n",
      "Epoch 2/10000\n",
      "3999/3999 [==============================] - 1s 218us/step - loss: 0.6475 - acc: 0.5951\n",
      "Epoch 3/10000\n",
      "3999/3999 [==============================] - 1s 220us/step - loss: 0.6443 - acc: 0.5919\n",
      "Epoch 4/10000\n",
      "3999/3999 [==============================] - 1s 208us/step - loss: 0.6431 - acc: 0.5861\n",
      "Epoch 5/10000\n",
      "3999/3999 [==============================] - 1s 224us/step - loss: 0.6453 - acc: 0.5891\n",
      "Epoch 6/10000\n",
      "3999/3999 [==============================] - 1s 219us/step - loss: 0.6438 - acc: 0.5851\n",
      "Epoch 7/10000\n",
      "3999/3999 [==============================] - 1s 209us/step - loss: 0.6404 - acc: 0.5891\n",
      "Epoch 8/10000\n",
      "3999/3999 [==============================] - 1s 228us/step - loss: 0.6407 - acc: 0.5934\n",
      "Epoch 9/10000\n",
      "3999/3999 [==============================] - 1s 220us/step - loss: 0.6425 - acc: 0.5934\n",
      "Epoch 10/10000\n",
      "3999/3999 [==============================] - 1s 218us/step - loss: 0.6418 - acc: 0.5924\n",
      "Epoch 11/10000\n",
      "3999/3999 [==============================] - 1s 216us/step - loss: 0.6404 - acc: 0.5904\n",
      "Epoch 12/10000\n",
      "3999/3999 [==============================] - 1s 219us/step - loss: 0.6405 - acc: 0.5846\n",
      "Epoch 13/10000\n",
      "3999/3999 [==============================] - 1s 223us/step - loss: 0.6376 - acc: 0.5934\n",
      "Epoch 14/10000\n",
      "3999/3999 [==============================] - 1s 218us/step - loss: 0.6393 - acc: 0.5934\n",
      "Epoch 15/10000\n",
      "3999/3999 [==============================] - 1s 217us/step - loss: 0.6425 - acc: 0.5929\n",
      "Epoch 16/10000\n",
      "3999/3999 [==============================] - 1s 222us/step - loss: 0.6410 - acc: 0.5934\n",
      "Epoch 17/10000\n",
      "3999/3999 [==============================] - 1s 216us/step - loss: 0.6399 - acc: 0.5879\n",
      "Epoch 18/10000\n",
      "3999/3999 [==============================] - 1s 222us/step - loss: 0.6401 - acc: 0.5934\n",
      "Epoch 19/10000\n",
      "3999/3999 [==============================] - 1s 214us/step - loss: 0.6404 - acc: 0.5934\n",
      "Epoch 20/10000\n",
      "3999/3999 [==============================] - 1s 226us/step - loss: 0.6409 - acc: 0.5934\n",
      "Epoch 21/10000\n",
      "3999/3999 [==============================] - 1s 222us/step - loss: 0.6405 - acc: 0.5934\n",
      "Epoch 22/10000\n",
      "3999/3999 [==============================] - 1s 217us/step - loss: 0.6420 - acc: 0.5934\n",
      "Epoch 23/10000\n",
      "3999/3999 [==============================] - 1s 225us/step - loss: 0.6397 - acc: 0.5934\n",
      "Epoch 24/10000\n",
      "3999/3999 [==============================] - 1s 258us/step - loss: 0.6390 - acc: 0.5934\n",
      "Epoch 25/10000\n",
      "3999/3999 [==============================] - 1s 224us/step - loss: 0.6396 - acc: 0.5934\n",
      "Epoch 26/10000\n",
      "3999/3999 [==============================] - 1s 218us/step - loss: 0.6410 - acc: 0.5934\n",
      "Epoch 27/10000\n",
      "3999/3999 [==============================] - 1s 225us/step - loss: 0.6392 - acc: 0.5904\n",
      "Epoch 28/10000\n",
      "3999/3999 [==============================] - 1s 213us/step - loss: 0.6388 - acc: 0.5924\n",
      "Epoch 29/10000\n",
      "3999/3999 [==============================] - 1s 226us/step - loss: 0.6382 - acc: 0.5881\n",
      "Epoch 30/10000\n",
      "3999/3999 [==============================] - 1s 213us/step - loss: 0.6400 - acc: 0.5934\n",
      "Epoch 31/10000\n",
      "3999/3999 [==============================] - 1s 214us/step - loss: 0.6395 - acc: 0.5934\n",
      "Epoch 32/10000\n",
      "3999/3999 [==============================] - 1s 221us/step - loss: 0.6386 - acc: 0.5934\n",
      "Epoch 33/10000\n",
      "3999/3999 [==============================] - 1s 219us/step - loss: 0.6395 - acc: 0.5934\n",
      "Epoch 34/10000\n",
      "3999/3999 [==============================] - 1s 221us/step - loss: 0.6414 - acc: 0.5934\n",
      "Epoch 35/10000\n",
      "3999/3999 [==============================] - 1s 219us/step - loss: 0.6388 - acc: 0.5934\n",
      "Epoch 36/10000\n",
      "3999/3999 [==============================] - 1s 224us/step - loss: 0.6411 - acc: 0.5934\n",
      "Epoch 37/10000\n",
      "3999/3999 [==============================] - 1s 223us/step - loss: 0.6403 - acc: 0.5929\n",
      "Epoch 38/10000\n",
      "3999/3999 [==============================] - 1s 215us/step - loss: 0.6399 - acc: 0.5901\n",
      "Epoch 39/10000\n",
      "3999/3999 [==============================] - 1s 212us/step - loss: 0.6399 - acc: 0.5934\n",
      "Epoch 40/10000\n",
      "3999/3999 [==============================] - 1s 218us/step - loss: 0.6400 - acc: 0.5934\n",
      "Epoch 41/10000\n",
      "3999/3999 [==============================] - 1s 219us/step - loss: 0.6375 - acc: 0.5934\n",
      "Epoch 42/10000\n",
      "3999/3999 [==============================] - 1s 241us/step - loss: 0.6404 - acc: 0.5934\n",
      "Epoch 43/10000\n",
      "3999/3999 [==============================] - 1s 220us/step - loss: 0.6400 - acc: 0.5934\n",
      "Epoch 44/10000\n",
      "3999/3999 [==============================] - 1s 229us/step - loss: 0.6392 - acc: 0.5924\n",
      "Epoch 45/10000\n",
      "3999/3999 [==============================] - 1s 219us/step - loss: 0.6383 - acc: 0.5934\n",
      "Epoch 46/10000\n",
      "3999/3999 [==============================] - 1s 225us/step - loss: 0.6393 - acc: 0.5834\n",
      "Epoch 47/10000\n",
      "3999/3999 [==============================] - 1s 226us/step - loss: 0.6405 - acc: 0.5934\n",
      "Epoch 48/10000\n",
      "3999/3999 [==============================] - 1s 219us/step - loss: 0.6400 - acc: 0.5909\n",
      "Epoch 49/10000\n",
      "3999/3999 [==============================] - 1s 220us/step - loss: 0.6394 - acc: 0.5934\n",
      "Epoch 50/10000\n",
      "3999/3999 [==============================] - 1s 215us/step - loss: 0.6389 - acc: 0.5934\n",
      "Epoch 51/10000\n",
      "3999/3999 [==============================] - 1s 214us/step - loss: 0.6402 - acc: 0.5934\n",
      "Epoch 52/10000\n",
      "3999/3999 [==============================] - 1s 214us/step - loss: 0.6398 - acc: 0.5934\n",
      "Epoch 53/10000\n",
      "3999/3999 [==============================] - 1s 226us/step - loss: 0.6386 - acc: 0.5934\n",
      "Epoch 54/10000\n",
      "3999/3999 [==============================] - 1s 229us/step - loss: 0.6400 - acc: 0.5934\n",
      "Epoch 55/10000\n",
      "3999/3999 [==============================] - 1s 220us/step - loss: 0.6411 - acc: 0.5891\n",
      "Epoch 56/10000\n",
      "3999/3999 [==============================] - 1s 211us/step - loss: 0.6403 - acc: 0.5896\n",
      "Epoch 57/10000\n",
      "3999/3999 [==============================] - 1s 214us/step - loss: 0.6413 - acc: 0.5931\n",
      "Epoch 58/10000\n",
      "3999/3999 [==============================] - 1s 221us/step - loss: 0.6389 - acc: 0.5934\n",
      "Epoch 59/10000\n",
      "3999/3999 [==============================] - 1s 216us/step - loss: 0.6393 - acc: 0.5934\n",
      "Epoch 60/10000\n",
      "3999/3999 [==============================] - 1s 215us/step - loss: 0.6402 - acc: 0.5934\n",
      "Epoch 61/10000\n",
      "3999/3999 [==============================] - 1s 225us/step - loss: 0.6407 - acc: 0.5934\n",
      "Epoch 62/10000\n",
      "3999/3999 [==============================] - 1s 234us/step - loss: 0.6394 - acc: 0.5934\n",
      "Epoch 63/10000\n",
      "3999/3999 [==============================] - 1s 228us/step - loss: 0.6385 - acc: 0.5924\n",
      "Epoch 64/10000\n",
      "3999/3999 [==============================] - 1s 216us/step - loss: 0.6392 - acc: 0.5931\n",
      "Epoch 65/10000\n",
      "3999/3999 [==============================] - 1s 220us/step - loss: 0.6383 - acc: 0.5934\n",
      "Epoch 66/10000\n",
      "3999/3999 [==============================] - 1s 222us/step - loss: 0.6389 - acc: 0.5934\n",
      "Epoch 67/10000\n",
      "3999/3999 [==============================] - 1s 211us/step - loss: 0.6383 - acc: 0.5934\n",
      "Epoch 68/10000\n",
      "3999/3999 [==============================] - 1s 213us/step - loss: 0.6408 - acc: 0.5934\n",
      "Epoch 69/10000\n",
      "3999/3999 [==============================] - 1s 222us/step - loss: 0.6398 - acc: 0.5934\n",
      "Epoch 70/10000\n",
      "3999/3999 [==============================] - 1s 227us/step - loss: 0.6380 - acc: 0.5936\n",
      "Epoch 71/10000\n",
      "3999/3999 [==============================] - 1s 236us/step - loss: 0.6396 - acc: 0.5911\n",
      "Epoch 72/10000\n",
      "3999/3999 [==============================] - 1s 214us/step - loss: 0.6389 - acc: 0.5934\n",
      "Epoch 73/10000\n",
      "3999/3999 [==============================] - 1s 213us/step - loss: 0.6393 - acc: 0.5934\n",
      "Epoch 74/10000\n",
      "3999/3999 [==============================] - 1s 221us/step - loss: 0.6389 - acc: 0.5934\n",
      "Epoch 75/10000\n",
      "3999/3999 [==============================] - 1s 226us/step - loss: 0.6386 - acc: 0.5931\n",
      "Epoch 76/10000\n",
      "3999/3999 [==============================] - 1s 221us/step - loss: 0.6383 - acc: 0.5934\n",
      "Epoch 77/10000\n",
      "3999/3999 [==============================] - 1s 214us/step - loss: 0.6387 - acc: 0.5934\n",
      "Epoch 78/10000\n",
      "3999/3999 [==============================] - 1s 223us/step - loss: 0.6389 - acc: 0.5934\n",
      "Epoch 79/10000\n",
      "3999/3999 [==============================] - 1s 219us/step - loss: 0.6384 - acc: 0.5934\n",
      "Epoch 80/10000\n"
     ]
    },
    {
     "name": "stdout",
     "output_type": "stream",
     "text": [
      "3999/3999 [==============================] - 1s 214us/step - loss: 0.6385 - acc: 0.5921\n",
      "Epoch 81/10000\n",
      "3999/3999 [==============================] - 1s 221us/step - loss: 0.6387 - acc: 0.5931\n",
      "Epoch 82/10000\n",
      "3999/3999 [==============================] - 1s 221us/step - loss: 0.6388 - acc: 0.5934\n",
      "Epoch 83/10000\n",
      "3999/3999 [==============================] - 1s 225us/step - loss: 0.6408 - acc: 0.5931\n",
      "Epoch 84/10000\n",
      "3999/3999 [==============================] - 1s 228us/step - loss: 0.6380 - acc: 0.5934\n",
      "Epoch 85/10000\n",
      "3999/3999 [==============================] - 1s 217us/step - loss: 0.6380 - acc: 0.5951\n",
      "Epoch 86/10000\n",
      "3999/3999 [==============================] - 1s 209us/step - loss: 0.6387 - acc: 0.5916\n",
      "Epoch 87/10000\n",
      "3999/3999 [==============================] - 1s 215us/step - loss: 0.6392 - acc: 0.5934\n",
      "Epoch 88/10000\n",
      "3999/3999 [==============================] - 1s 215us/step - loss: 0.6392 - acc: 0.5934\n",
      "Epoch 89/10000\n",
      "3999/3999 [==============================] - 1s 228us/step - loss: 0.6376 - acc: 0.5929\n",
      "Epoch 90/10000\n",
      "3999/3999 [==============================] - 1s 220us/step - loss: 0.6384 - acc: 0.5934\n",
      "Epoch 91/10000\n",
      "3999/3999 [==============================] - 1s 215us/step - loss: 0.6394 - acc: 0.5934\n",
      "Epoch 92/10000\n",
      "3999/3999 [==============================] - 1s 226us/step - loss: 0.6377 - acc: 0.5934\n",
      "Epoch 93/10000\n",
      "3999/3999 [==============================] - 1s 218us/step - loss: 0.6389 - acc: 0.5934\n",
      "Epoch 94/10000\n",
      "3999/3999 [==============================] - 1s 217us/step - loss: 0.6397 - acc: 0.5934\n",
      "Epoch 95/10000\n",
      "3999/3999 [==============================] - 1s 213us/step - loss: 0.6392 - acc: 0.5934\n",
      "Epoch 96/10000\n",
      "3999/3999 [==============================] - 1s 219us/step - loss: 0.6382 - acc: 0.5934\n",
      "Epoch 97/10000\n",
      "3999/3999 [==============================] - 1s 216us/step - loss: 0.6399 - acc: 0.5939\n",
      "Epoch 98/10000\n",
      "3999/3999 [==============================] - 1s 217us/step - loss: 0.6383 - acc: 0.5934\n",
      "Epoch 99/10000\n",
      "3999/3999 [==============================] - 1s 219us/step - loss: 0.6385 - acc: 0.5934\n",
      "Epoch 100/10000\n",
      "3999/3999 [==============================] - 1s 212us/step - loss: 0.6389 - acc: 0.5936\n",
      "Epoch 101/10000\n",
      "3999/3999 [==============================] - 1s 225us/step - loss: 0.6384 - acc: 0.5934\n",
      "Epoch 102/10000\n",
      "3999/3999 [==============================] - 1s 222us/step - loss: 0.6374 - acc: 0.5934\n",
      "Epoch 103/10000\n",
      "3999/3999 [==============================] - 1s 225us/step - loss: 0.6394 - acc: 0.5936\n",
      "Epoch 104/10000\n",
      "3999/3999 [==============================] - 1s 221us/step - loss: 0.6384 - acc: 0.5929\n",
      "Epoch 105/10000\n",
      "3999/3999 [==============================] - 1s 217us/step - loss: 0.6373 - acc: 0.5934\n",
      "Epoch 106/10000\n",
      "3999/3999 [==============================] - 1s 213us/step - loss: 0.6395 - acc: 0.5934\n",
      "Epoch 107/10000\n",
      "3999/3999 [==============================] - 1s 221us/step - loss: 0.6383 - acc: 0.5934\n",
      "Epoch 108/10000\n",
      "3999/3999 [==============================] - 1s 222us/step - loss: 0.6386 - acc: 0.5934\n",
      "Epoch 109/10000\n",
      "3999/3999 [==============================] - 1s 213us/step - loss: 0.6383 - acc: 0.5934\n",
      "Epoch 110/10000\n",
      "3999/3999 [==============================] - 1s 225us/step - loss: 0.6391 - acc: 0.5934\n",
      "Epoch 111/10000\n",
      "3999/3999 [==============================] - 1s 226us/step - loss: 0.6389 - acc: 0.5934\n",
      "Epoch 112/10000\n",
      "3999/3999 [==============================] - 1s 221us/step - loss: 0.6400 - acc: 0.5934\n",
      "Epoch 113/10000\n",
      "3999/3999 [==============================] - 1s 223us/step - loss: 0.6374 - acc: 0.5934\n",
      "Epoch 114/10000\n",
      "3999/3999 [==============================] - 1s 223us/step - loss: 0.6392 - acc: 0.5934\n",
      "Epoch 115/10000\n",
      "3999/3999 [==============================] - 1s 217us/step - loss: 0.6385 - acc: 0.5934\n",
      "Epoch 116/10000\n",
      "3999/3999 [==============================] - 1s 223us/step - loss: 0.6394 - acc: 0.5934\n",
      "Epoch 117/10000\n",
      "3999/3999 [==============================] - 1s 224us/step - loss: 0.6398 - acc: 0.5926\n",
      "Epoch 118/10000\n",
      "3999/3999 [==============================] - 1s 222us/step - loss: 0.6372 - acc: 0.5934\n",
      "Epoch 119/10000\n",
      "3999/3999 [==============================] - 1s 218us/step - loss: 0.6388 - acc: 0.5934\n",
      "Epoch 120/10000\n",
      "3999/3999 [==============================] - 1s 222us/step - loss: 0.6386 - acc: 0.5951\n",
      "Epoch 121/10000\n",
      "3999/3999 [==============================] - 1s 214us/step - loss: 0.6394 - acc: 0.5934\n",
      "Epoch 122/10000\n",
      "3999/3999 [==============================] - 1s 232us/step - loss: 0.6389 - acc: 0.5939\n",
      "Epoch 123/10000\n",
      "3999/3999 [==============================] - 1s 218us/step - loss: 0.6393 - acc: 0.5934\n",
      "Epoch 124/10000\n",
      "3999/3999 [==============================] - 1s 219us/step - loss: 0.6378 - acc: 0.5931\n",
      "Epoch 125/10000\n",
      "3999/3999 [==============================] - 1s 228us/step - loss: 0.6393 - acc: 0.5951\n",
      "Epoch 126/10000\n",
      "3999/3999 [==============================] - 1s 221us/step - loss: 0.6388 - acc: 0.5834\n",
      "Epoch 127/10000\n",
      "3999/3999 [==============================] - 1s 226us/step - loss: 0.6405 - acc: 0.5934\n",
      "Epoch 128/10000\n",
      "3999/3999 [==============================] - 1s 212us/step - loss: 0.6381 - acc: 0.5934\n",
      "Epoch 129/10000\n",
      "3999/3999 [==============================] - 1s 227us/step - loss: 0.6387 - acc: 0.5934\n",
      "Epoch 130/10000\n",
      "3999/3999 [==============================] - 1s 210us/step - loss: 0.6379 - acc: 0.5934\n",
      "Epoch 131/10000\n",
      "3999/3999 [==============================] - 1s 222us/step - loss: 0.6370 - acc: 0.5934\n",
      "Epoch 132/10000\n",
      "3999/3999 [==============================] - 1s 224us/step - loss: 0.6391 - acc: 0.5934\n",
      "Epoch 133/10000\n",
      "3999/3999 [==============================] - 1s 225us/step - loss: 0.6381 - acc: 0.5934\n",
      "Epoch 134/10000\n",
      "3999/3999 [==============================] - 1s 214us/step - loss: 0.6380 - acc: 0.5934\n",
      "Epoch 135/10000\n",
      "3999/3999 [==============================] - 1s 211us/step - loss: 0.6398 - acc: 0.5934\n",
      "Epoch 136/10000\n",
      "3999/3999 [==============================] - 1s 216us/step - loss: 0.6392 - acc: 0.5944\n",
      "Epoch 137/10000\n",
      "3999/3999 [==============================] - 1s 218us/step - loss: 0.6377 - acc: 0.5914\n",
      "Epoch 138/10000\n",
      "3999/3999 [==============================] - 1s 215us/step - loss: 0.6386 - acc: 0.5931\n",
      "Epoch 139/10000\n",
      "3999/3999 [==============================] - 1s 225us/step - loss: 0.6400 - acc: 0.5909\n",
      "Epoch 140/10000\n",
      "3999/3999 [==============================] - 1s 221us/step - loss: 0.6392 - acc: 0.5934\n",
      "Epoch 141/10000\n",
      "3999/3999 [==============================] - 1s 221us/step - loss: 0.6381 - acc: 0.5924\n",
      "Epoch 142/10000\n",
      "3999/3999 [==============================] - 1s 231us/step - loss: 0.6377 - acc: 0.5936\n",
      "Epoch 143/10000\n",
      "3999/3999 [==============================] - 1s 215us/step - loss: 0.6376 - acc: 0.5934\n",
      "Epoch 144/10000\n",
      "3999/3999 [==============================] - 1s 219us/step - loss: 0.6404 - acc: 0.5934\n",
      "Epoch 145/10000\n",
      "3999/3999 [==============================] - 1s 219us/step - loss: 0.6376 - acc: 0.5929\n",
      "Epoch 146/10000\n",
      "3999/3999 [==============================] - 1s 219us/step - loss: 0.6392 - acc: 0.5931\n",
      "Epoch 147/10000\n",
      "3999/3999 [==============================] - 1s 221us/step - loss: 0.6395 - acc: 0.5936\n",
      "Epoch 148/10000\n",
      "3999/3999 [==============================] - 1s 221us/step - loss: 0.6377 - acc: 0.5934\n",
      "Epoch 149/10000\n",
      "3999/3999 [==============================] - 1s 230us/step - loss: 0.6387 - acc: 0.5934\n",
      "Epoch 150/10000\n",
      "3999/3999 [==============================] - 1s 219us/step - loss: 0.6400 - acc: 0.5929\n",
      "Epoch 151/10000\n",
      "3999/3999 [==============================] - 1s 239us/step - loss: 0.6382 - acc: 0.5936\n",
      "Epoch 152/10000\n",
      "3999/3999 [==============================] - 1s 223us/step - loss: 0.6388 - acc: 0.5934\n",
      "Epoch 153/10000\n",
      "3999/3999 [==============================] - 1s 223us/step - loss: 0.6381 - acc: 0.5936\n",
      "Epoch 154/10000\n",
      "3999/3999 [==============================] - 1s 218us/step - loss: 0.6382 - acc: 0.5931\n",
      "Epoch 155/10000\n",
      "3999/3999 [==============================] - 1s 234us/step - loss: 0.6388 - acc: 0.5934\n",
      "Epoch 156/10000\n",
      "3999/3999 [==============================] - 1s 217us/step - loss: 0.6395 - acc: 0.5934\n",
      "Epoch 157/10000\n",
      "3999/3999 [==============================] - 1s 224us/step - loss: 0.6397 - acc: 0.5941\n",
      "Epoch 158/10000\n",
      "3999/3999 [==============================] - 1s 235us/step - loss: 0.6388 - acc: 0.5954\n",
      "Epoch 159/10000\n"
     ]
    },
    {
     "name": "stdout",
     "output_type": "stream",
     "text": [
      "3999/3999 [==============================] - 1s 219us/step - loss: 0.6395 - acc: 0.5941\n",
      "Epoch 160/10000\n",
      "3999/3999 [==============================] - 1s 219us/step - loss: 0.6387 - acc: 0.5956\n",
      "Epoch 161/10000\n",
      "3999/3999 [==============================] - 1s 238us/step - loss: 0.6384 - acc: 0.5949\n",
      "Epoch 162/10000\n",
      "3999/3999 [==============================] - 1s 239us/step - loss: 0.6374 - acc: 0.5946\n",
      "Epoch 163/10000\n",
      "3999/3999 [==============================] - 1s 222us/step - loss: 0.6388 - acc: 0.5934\n",
      "Epoch 164/10000\n",
      "3999/3999 [==============================] - 1s 219us/step - loss: 0.6394 - acc: 0.5911\n",
      "Epoch 165/10000\n",
      "3999/3999 [==============================] - 1s 231us/step - loss: 0.6385 - acc: 0.5956\n",
      "Epoch 166/10000\n",
      "3999/3999 [==============================] - 1s 218us/step - loss: 0.6369 - acc: 0.5956\n",
      "Epoch 167/10000\n",
      "3999/3999 [==============================] - 1s 219us/step - loss: 0.6381 - acc: 0.5934\n",
      "Epoch 168/10000\n",
      "3999/3999 [==============================] - 1s 218us/step - loss: 0.6384 - acc: 0.5954\n",
      "Epoch 169/10000\n",
      "3999/3999 [==============================] - 1s 228us/step - loss: 0.6383 - acc: 0.5926\n",
      "Epoch 170/10000\n",
      "3999/3999 [==============================] - 1s 236us/step - loss: 0.6381 - acc: 0.5934\n",
      "Epoch 171/10000\n",
      "3999/3999 [==============================] - 1s 231us/step - loss: 0.6390 - acc: 0.5949\n",
      "Epoch 172/10000\n",
      "3999/3999 [==============================] - 1s 232us/step - loss: 0.6392 - acc: 0.5936\n",
      "Epoch 173/10000\n",
      "3999/3999 [==============================] - 1s 222us/step - loss: 0.6389 - acc: 0.5941\n",
      "Epoch 174/10000\n",
      "3999/3999 [==============================] - 1s 219us/step - loss: 0.6376 - acc: 0.5926\n",
      "Epoch 175/10000\n",
      "3999/3999 [==============================] - 1s 212us/step - loss: 0.6390 - acc: 0.5924\n",
      "Epoch 176/10000\n",
      "3999/3999 [==============================] - 1s 233us/step - loss: 0.6385 - acc: 0.5939\n",
      "Epoch 177/10000\n",
      "3999/3999 [==============================] - 1s 215us/step - loss: 0.6390 - acc: 0.5924\n",
      "Epoch 178/10000\n",
      "3999/3999 [==============================] - 1s 222us/step - loss: 0.6404 - acc: 0.5939\n",
      "Epoch 179/10000\n",
      "3999/3999 [==============================] - 1s 229us/step - loss: 0.6394 - acc: 0.5939\n",
      "Epoch 180/10000\n",
      "3999/3999 [==============================] - 1s 219us/step - loss: 0.6392 - acc: 0.5926\n",
      "Epoch 181/10000\n",
      "3999/3999 [==============================] - 1s 219us/step - loss: 0.6385 - acc: 0.5934\n",
      "Epoch 182/10000\n",
      "3999/3999 [==============================] - 1s 226us/step - loss: 0.6371 - acc: 0.5934\n",
      "Epoch 183/10000\n",
      "3999/3999 [==============================] - 1s 214us/step - loss: 0.6397 - acc: 0.5934\n",
      "Epoch 184/10000\n",
      "3999/3999 [==============================] - 1s 211us/step - loss: 0.6378 - acc: 0.5934\n",
      "Epoch 185/10000\n",
      "3999/3999 [==============================] - 1s 219us/step - loss: 0.6380 - acc: 0.5934\n",
      "Epoch 186/10000\n",
      "3999/3999 [==============================] - 1s 215us/step - loss: 0.6370 - acc: 0.5934\n",
      "Epoch 187/10000\n",
      "3999/3999 [==============================] - 1s 215us/step - loss: 0.6377 - acc: 0.5934\n",
      "Epoch 188/10000\n",
      "3999/3999 [==============================] - 1s 216us/step - loss: 0.6386 - acc: 0.5934\n",
      "Epoch 189/10000\n",
      "3999/3999 [==============================] - 1s 222us/step - loss: 0.6381 - acc: 0.5934\n",
      "Epoch 190/10000\n",
      "3999/3999 [==============================] - 1s 218us/step - loss: 0.6388 - acc: 0.5934\n",
      "Epoch 191/10000\n",
      "3999/3999 [==============================] - 1s 211us/step - loss: 0.6378 - acc: 0.5934\n",
      "Epoch 192/10000\n",
      "3999/3999 [==============================] - 1s 217us/step - loss: 0.6388 - acc: 0.5934\n",
      "Epoch 193/10000\n",
      "3999/3999 [==============================] - 1s 214us/step - loss: 0.6387 - acc: 0.5934\n",
      "Epoch 194/10000\n",
      "3999/3999 [==============================] - 1s 218us/step - loss: 0.6388 - acc: 0.5934\n",
      "Epoch 195/10000\n",
      "2336/3999 [================>.............] - ETA: 0s - loss: 0.6418 - acc: 0.5946"
     ]
    }
   ],
   "source": [
    "model.fit(X_tr_grow, grow_tr, epochs=10000, batch_size=32)"
   ]
  },
  {
   "cell_type": "code",
   "execution_count": null,
   "metadata": {
    "collapsed": true
   },
   "outputs": [],
   "source": [
    "# row = '2017-11-07'\n",
    "# timestamp_as_list = row.split('-')\n",
    "# year = int(timestamp_as_list[0])\n",
    "# month = int(timestamp_as_list[1])\n",
    "# day = int(timestamp_as_list[2])\n",
    "# date = datetime.datetime(year=year, month=month, day=day, tzinfo=datetime.timezone.utc)  # Convert to UTC time\n",
    "# unix_time = int(date.timestamp())"
   ]
  },
  {
   "cell_type": "code",
   "execution_count": null,
   "metadata": {},
   "outputs": [],
   "source": [
    "# model.predict(np.array([[unix_time, 5.8600]]))"
   ]
  },
  {
   "cell_type": "code",
   "execution_count": 88,
   "metadata": {},
   "outputs": [
    {
     "name": "stdout",
     "output_type": "stream",
     "text": [
      "489/489 [==============================] - 0s 327us/step\n"
     ]
    }
   ],
   "source": [
    "prediction = model.predict_classes(X_te_grow)"
   ]
  },
  {
   "cell_type": "code",
   "execution_count": 89,
   "metadata": {},
   "outputs": [
    {
     "name": "stdout",
     "output_type": "stream",
     "text": [
      "3999/3999 [==============================] - 0s 47us/step\n"
     ]
    }
   ],
   "source": [
    "prediction_tr = model.predict_classes(X_tr_grow)"
   ]
  },
  {
   "cell_type": "code",
   "execution_count": 90,
   "metadata": {},
   "outputs": [
    {
     "data": {
      "text/plain": [
       "array([[0],\n",
       "       [0],\n",
       "       [0],\n",
       "       ..., \n",
       "       [0],\n",
       "       [0],\n",
       "       [0]])"
      ]
     },
     "execution_count": 90,
     "metadata": {},
     "output_type": "execute_result"
    }
   ],
   "source": [
    "prediction_tr"
   ]
  },
  {
   "cell_type": "code",
   "execution_count": 91,
   "metadata": {
    "collapsed": true
   },
   "outputs": [],
   "source": [
    "from sklearn.metrics import classification_report, confusion_matrix"
   ]
  },
  {
   "cell_type": "code",
   "execution_count": 92,
   "metadata": {},
   "outputs": [
    {
     "name": "stdout",
     "output_type": "stream",
     "text": [
      "             precision    recall  f1-score   support\n",
      "\n",
      "          0       0.60      0.98      0.74      2373\n",
      "          1       0.54      0.03      0.06      1626\n",
      "\n",
      "avg / total       0.57      0.60      0.47      3999\n",
      "\n",
      "[[2327   46]\n",
      " [1572   54]]\n"
     ]
    }
   ],
   "source": [
    "print(classification_report(grow_tr, prediction_tr))\n",
    "print(confusion_matrix(grow_tr, prediction_tr))"
   ]
  },
  {
   "cell_type": "code",
   "execution_count": 93,
   "metadata": {},
   "outputs": [
    {
     "name": "stdout",
     "output_type": "stream",
     "text": [
      "             precision    recall  f1-score   support\n",
      "\n",
      "          0       0.53      0.67      0.59       258\n",
      "          1       0.49      0.35      0.41       231\n",
      "\n",
      "avg / total       0.51      0.52      0.51       489\n",
      "\n",
      "[[172  86]\n",
      " [150  81]]\n"
     ]
    }
   ],
   "source": [
    "print(classification_report(grow_te, prediction))\n",
    "print(confusion_matrix(grow_te, prediction))"
   ]
  },
  {
   "cell_type": "code",
   "execution_count": null,
   "metadata": {
    "collapsed": true
   },
   "outputs": [],
   "source": []
  }
 ],
 "metadata": {
  "kernelspec": {
   "display_name": "Python 3",
   "language": "python",
   "name": "python3"
  },
  "language_info": {
   "codemirror_mode": {
    "name": "ipython",
    "version": 3
   },
   "file_extension": ".py",
   "mimetype": "text/x-python",
   "name": "python",
   "nbconvert_exporter": "python",
   "pygments_lexer": "ipython3",
   "version": "3.6.2"
  }
 },
 "nbformat": 4,
 "nbformat_minor": 1
}
